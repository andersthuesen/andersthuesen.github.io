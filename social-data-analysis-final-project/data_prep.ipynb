{
 "cells": [
  {
   "cell_type": "code",
   "execution_count": 1,
   "metadata": {},
   "outputs": [],
   "source": [
    "import pandas as pd\n",
    "import matplotlib.pyplot as plt\n",
    "import pyarrow.parquet as pq\n",
    "import geojson\n",
    "import plotly.express as px\n",
    "import plotly.io as pio\n",
    "import json"
   ]
  },
  {
   "cell_type": "code",
   "execution_count": 2,
   "metadata": {},
   "outputs": [
    {
     "name": "stdout",
     "output_type": "stream",
     "text": [
      "1\n",
      "2\n",
      "3\n",
      "4\n",
      "5\n",
      "6\n",
      "7\n",
      "8\n",
      "9\n",
      "10\n",
      "11\n",
      "12\n",
      "(39656098, 19)\n"
     ]
    }
   ],
   "source": [
    "def load_trips(list):\n",
    "    df = pd.DataFrame()\n",
    "    for month in list:\n",
    "        print(month)\n",
    "        trips = pq.read_table(f'data/yellow_tripdata_2022-{month:02}.parquet')\n",
    "        trips_df = trips.to_pandas()\n",
    "        # Append data\n",
    "        df = pd.concat((df, trips_df), ignore_index=True)# df.concat(trips_df, ignore_index=True)\n",
    "\n",
    "    return df\n",
    "list = range(1,13)\n",
    "df = load_trips(list)\n",
    "#df.to_csv('data/yellow_tripdata_combined.csv')\n",
    "#df = pd.read_csv('data/yellow_tripdata_combined.csv')\n",
    "print(df.shape)"
   ]
  },
  {
   "cell_type": "code",
   "execution_count": 3,
   "metadata": {},
   "outputs": [],
   "source": [
    "df[\"pickup_at\"] = pd.to_datetime(df[\"tpep_pickup_datetime\"])\n",
    "df[\"dropoff_at\"] = pd.to_datetime(df[\"tpep_dropoff_datetime\"])"
   ]
  },
  {
   "cell_type": "code",
   "execution_count": 4,
   "metadata": {},
   "outputs": [],
   "source": [
    "df[\"duration\"] = (df[\"dropoff_at\"] - df[\"pickup_at\"]).dt.total_seconds()\n",
    "df[\"tip_percentage\"] = 100*df[\"tip_amount\"] / df[\"total_amount\"]"
   ]
  },
  {
   "cell_type": "code",
   "execution_count": 5,
   "metadata": {},
   "outputs": [
    {
     "name": "stdout",
     "output_type": "stream",
     "text": [
      "Index(['VendorID', 'tpep_pickup_datetime', 'tpep_dropoff_datetime',\n",
      "       'passenger_count', 'trip_distance', 'RatecodeID', 'store_and_fwd_flag',\n",
      "       'PULocationID', 'DOLocationID', 'payment_type', 'fare_amount', 'extra',\n",
      "       'mta_tax', 'tip_amount', 'tolls_amount', 'improvement_surcharge',\n",
      "       'total_amount', 'congestion_surcharge', 'airport_fee', 'pickup_at',\n",
      "       'dropoff_at', 'duration', 'tip_percentage'],\n",
      "      dtype='object')\n"
     ]
    }
   ],
   "source": [
    "print(df.columns)"
   ]
  },
  {
   "cell_type": "code",
   "execution_count": 7,
   "metadata": {},
   "outputs": [
    {
     "name": "stdout",
     "output_type": "stream",
     "text": [
      "(38281537, 23)\n"
     ]
    }
   ],
   "source": [
    "df = df.dropna()\n",
    "print(df.shape)"
   ]
  },
  {
   "cell_type": "code",
   "execution_count": null,
   "metadata": {},
   "outputs": [],
   "source": [
    "def remove_outliers(df, attribute, min = None, max = None, include_min = True, include_max = True):\n",
    "    if min is not None:\n",
    "        if include_min:\n",
    "            df = df[df[attribute]>=min]\n",
    "        else:\n",
    "            df = df[df[attribute]>min]\n",
    "    if max is not None:\n",
    "        if include_max:\n",
    "            df = df[df[attribute]<=max]\n",
    "        else:\n",
    "            df = df[df[attribute]<max]\n",
    "    return df"
   ]
  },
  {
   "cell_type": "code",
   "execution_count": null,
   "metadata": {},
   "outputs": [],
   "source": [
    "df = remove_outliers(df, \"duration\", min = 60, max = 10800)"
   ]
  },
  {
   "cell_type": "code",
   "execution_count": null,
   "metadata": {},
   "outputs": [],
   "source": [
    "df = remove_outliers(df, \"passenger_count\", max = 6)"
   ]
  },
  {
   "cell_type": "code",
   "execution_count": null,
   "metadata": {},
   "outputs": [],
   "source": [
    "df = remove_outliers(df, \"trip_distance\", min = 0, max = 100, include_min = False)"
   ]
  },
  {
   "cell_type": "code",
   "execution_count": null,
   "metadata": {},
   "outputs": [],
   "source": [
    "df = remove_outliers(df, \"RatecodeID\", min = 1, max = 6)"
   ]
  },
  {
   "cell_type": "code",
   "execution_count": null,
   "metadata": {},
   "outputs": [],
   "source": [
    "df = remove_outliers(df, \"payment_type\", min = 1, max = 2)"
   ]
  },
  {
   "cell_type": "code",
   "execution_count": null,
   "metadata": {},
   "outputs": [],
   "source": [
    "df = remove_outliers(df, \"fare_amount\", min = 2.5, max = 250, include_min = False)"
   ]
  },
  {
   "cell_type": "code",
   "execution_count": null,
   "metadata": {},
   "outputs": [],
   "source": [
    "df = remove_outliers(df, \"extra\", min = 0)"
   ]
  },
  {
   "cell_type": "code",
   "execution_count": null,
   "metadata": {},
   "outputs": [],
   "source": [
    "df = remove_outliers(df, \"mta_tax\", min = 0)"
   ]
  },
  {
   "cell_type": "code",
   "execution_count": null,
   "metadata": {},
   "outputs": [],
   "source": [
    "df = remove_outliers(df, \"tip_percentage\", min = 0, max = 50)"
   ]
  },
  {
   "cell_type": "code",
   "execution_count": null,
   "metadata": {},
   "outputs": [],
   "source": [
    "df = remove_outliers(df, \"tolls_amount\", min = 0, max = 100)"
   ]
  },
  {
   "cell_type": "code",
   "execution_count": null,
   "metadata": {},
   "outputs": [],
   "source": [
    "df = remove_outliers(df, \"improvement_surcharge\", min = 0)"
   ]
  },
  {
   "cell_type": "code",
   "execution_count": null,
   "metadata": {},
   "outputs": [],
   "source": [
    "df = remove_outliers(df, \"total_amount\", min = 2.5, max = 1000, include_min=False)"
   ]
  },
  {
   "cell_type": "code",
   "execution_count": null,
   "metadata": {},
   "outputs": [],
   "source": [
    "df = remove_outliers(df, \"congestion_surcharge\", min = 0)"
   ]
  },
  {
   "cell_type": "code",
   "execution_count": null,
   "metadata": {},
   "outputs": [],
   "source": [
    "df = remove_outliers(df, \"airport_fee\", min = 0)"
   ]
  },
  {
   "cell_type": "code",
   "execution_count": null,
   "metadata": {},
   "outputs": [
    {
     "data": {
      "text/plain": [
       "(37067652, 22)"
      ]
     },
     "execution_count": 24,
     "metadata": {},
     "output_type": "execute_result"
    }
   ],
   "source": [
    "df.shape"
   ]
  },
  {
   "cell_type": "code",
   "execution_count": null,
   "metadata": {},
   "outputs": [],
   "source": [
    "df.to_csv('data/yellow_tripdata_combined_cleaned.csv')"
   ]
  },
  {
   "cell_type": "code",
   "execution_count": null,
   "metadata": {},
   "outputs": [],
   "source": [
    "focus = ['trip_distance','PULocationID', 'DOLocationID','fare_amount',\n",
    "         'tip_amount','total_amount','pickup_at', 'dropoff_at','duration']\n",
    "df_focus = df[focus]\n",
    "\n",
    "df_focus.to_csv('data/yellow_tripdata_combined_cleaned_focus.csv')"
   ]
  }
 ],
 "metadata": {
  "kernelspec": {
   "display_name": "openmmlab_new",
   "language": "python",
   "name": "python3"
  },
  "language_info": {
   "codemirror_mode": {
    "name": "ipython",
    "version": 3
   },
   "file_extension": ".py",
   "mimetype": "text/x-python",
   "name": "python",
   "nbconvert_exporter": "python",
   "pygments_lexer": "ipython3",
   "version": "3.9.16"
  },
  "orig_nbformat": 4
 },
 "nbformat": 4,
 "nbformat_minor": 2
}
