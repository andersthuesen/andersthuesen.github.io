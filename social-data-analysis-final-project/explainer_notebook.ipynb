{
 "cells": [
  {
   "cell_type": "code",
   "execution_count": 15,
   "metadata": {},
   "outputs": [],
   "source": [
    "import pandas as pd\n",
    "from pandas.api.types import CategoricalDtype\n",
    "import numpy as np\n",
    "import matplotlib.pyplot as plt"
   ]
  },
  {
   "cell_type": "code",
   "execution_count": 2,
   "metadata": {},
   "outputs": [],
   "source": [
    "df = pd.read_csv(\"data/yellow_tripdata_combined_cleaned_focus.csv\")"
   ]
  },
  {
   "cell_type": "code",
   "execution_count": null,
   "metadata": {},
   "outputs": [],
   "source": [
    "df[\"pickup_at\"] = pd.to_datetime(df[\"pickup_at\"])\n",
    "df[\"dropoff_at\"] = pd.to_datetime(df[\"dropoff_at\"])\n",
    "df[\"pickup_at_hour\"] = df[\"pickup_at\"].dt.round(\"H\")"
   ]
  },
  {
   "attachments": {},
   "cell_type": "markdown",
   "metadata": {},
   "source": [
    "# Explainer notebook"
   ]
  },
  {
   "attachments": {},
   "cell_type": "markdown",
   "metadata": {},
   "source": [
    "## Motivation\n",
    "\n",
    "### Dataset\n",
    "In this project we consider the [New York City taxi dataset](https://www.nyc.gov/site/tlc/about/tlc-trip-record-data.page) from year 2022. This dataset contains extensive information about Yello Taxi Trips in the time period. In the following cell a snippet of the data can be seen."
   ]
  },
  {
   "cell_type": "code",
   "execution_count": 3,
   "metadata": {},
   "outputs": [
    {
     "data": {
      "text/html": [
       "<div>\n",
       "<style scoped>\n",
       "    .dataframe tbody tr th:only-of-type {\n",
       "        vertical-align: middle;\n",
       "    }\n",
       "\n",
       "    .dataframe tbody tr th {\n",
       "        vertical-align: top;\n",
       "    }\n",
       "\n",
       "    .dataframe thead th {\n",
       "        text-align: right;\n",
       "    }\n",
       "</style>\n",
       "<table border=\"1\" class=\"dataframe\">\n",
       "  <thead>\n",
       "    <tr style=\"text-align: right;\">\n",
       "      <th></th>\n",
       "      <th>Unnamed: 0</th>\n",
       "      <th>trip_distance</th>\n",
       "      <th>PULocationID</th>\n",
       "      <th>DOLocationID</th>\n",
       "      <th>fare_amount</th>\n",
       "      <th>tip_amount</th>\n",
       "      <th>total_amount</th>\n",
       "      <th>pickup_at</th>\n",
       "      <th>dropoff_at</th>\n",
       "      <th>duration</th>\n",
       "      <th>pickup_at_hour</th>\n",
       "    </tr>\n",
       "  </thead>\n",
       "  <tbody>\n",
       "    <tr>\n",
       "      <th>0</th>\n",
       "      <td>0</td>\n",
       "      <td>3.80</td>\n",
       "      <td>142</td>\n",
       "      <td>236</td>\n",
       "      <td>14.5</td>\n",
       "      <td>3.65</td>\n",
       "      <td>21.95</td>\n",
       "      <td>2022-01-01 00:35:40</td>\n",
       "      <td>2022-01-01 00:53:29</td>\n",
       "      <td>1069.0</td>\n",
       "      <td>2022-01-01 01:00:00</td>\n",
       "    </tr>\n",
       "    <tr>\n",
       "      <th>1</th>\n",
       "      <td>1</td>\n",
       "      <td>2.10</td>\n",
       "      <td>236</td>\n",
       "      <td>42</td>\n",
       "      <td>8.0</td>\n",
       "      <td>4.00</td>\n",
       "      <td>13.30</td>\n",
       "      <td>2022-01-01 00:33:43</td>\n",
       "      <td>2022-01-01 00:42:07</td>\n",
       "      <td>504.0</td>\n",
       "      <td>2022-01-01 01:00:00</td>\n",
       "    </tr>\n",
       "    <tr>\n",
       "      <th>2</th>\n",
       "      <td>2</td>\n",
       "      <td>0.97</td>\n",
       "      <td>166</td>\n",
       "      <td>166</td>\n",
       "      <td>7.5</td>\n",
       "      <td>1.76</td>\n",
       "      <td>10.56</td>\n",
       "      <td>2022-01-01 00:53:21</td>\n",
       "      <td>2022-01-01 01:02:19</td>\n",
       "      <td>538.0</td>\n",
       "      <td>2022-01-01 01:00:00</td>\n",
       "    </tr>\n",
       "    <tr>\n",
       "      <th>3</th>\n",
       "      <td>3</td>\n",
       "      <td>1.09</td>\n",
       "      <td>114</td>\n",
       "      <td>68</td>\n",
       "      <td>8.0</td>\n",
       "      <td>0.00</td>\n",
       "      <td>11.80</td>\n",
       "      <td>2022-01-01 00:25:21</td>\n",
       "      <td>2022-01-01 00:35:23</td>\n",
       "      <td>602.0</td>\n",
       "      <td>2022-01-01 00:00:00</td>\n",
       "    </tr>\n",
       "    <tr>\n",
       "      <th>4</th>\n",
       "      <td>4</td>\n",
       "      <td>4.30</td>\n",
       "      <td>68</td>\n",
       "      <td>163</td>\n",
       "      <td>23.5</td>\n",
       "      <td>3.00</td>\n",
       "      <td>30.30</td>\n",
       "      <td>2022-01-01 00:36:48</td>\n",
       "      <td>2022-01-01 01:14:20</td>\n",
       "      <td>2252.0</td>\n",
       "      <td>2022-01-01 01:00:00</td>\n",
       "    </tr>\n",
       "  </tbody>\n",
       "</table>\n",
       "</div>"
      ],
      "text/plain": [
       "   Unnamed: 0  trip_distance  PULocationID  DOLocationID  fare_amount   \n",
       "0           0           3.80           142           236         14.5  \\\n",
       "1           1           2.10           236            42          8.0   \n",
       "2           2           0.97           166           166          7.5   \n",
       "3           3           1.09           114            68          8.0   \n",
       "4           4           4.30            68           163         23.5   \n",
       "\n",
       "   tip_amount  total_amount           pickup_at          dropoff_at  duration   \n",
       "0        3.65         21.95 2022-01-01 00:35:40 2022-01-01 00:53:29    1069.0  \\\n",
       "1        4.00         13.30 2022-01-01 00:33:43 2022-01-01 00:42:07     504.0   \n",
       "2        1.76         10.56 2022-01-01 00:53:21 2022-01-01 01:02:19     538.0   \n",
       "3        0.00         11.80 2022-01-01 00:25:21 2022-01-01 00:35:23     602.0   \n",
       "4        3.00         30.30 2022-01-01 00:36:48 2022-01-01 01:14:20    2252.0   \n",
       "\n",
       "       pickup_at_hour  \n",
       "0 2022-01-01 01:00:00  \n",
       "1 2022-01-01 01:00:00  \n",
       "2 2022-01-01 01:00:00  \n",
       "3 2022-01-01 00:00:00  \n",
       "4 2022-01-01 01:00:00  "
      ]
     },
     "execution_count": 3,
     "metadata": {},
     "output_type": "execute_result"
    }
   ],
   "source": [
    "df.head()"
   ]
  },
  {
   "attachments": {},
   "cell_type": "markdown",
   "metadata": {},
   "source": [
    "Furthermore we also include data from [NYC Taxi Zones](https://data.cityofnewyork.us/Transportation/NYC-Taxi-Zones/d3c5-ddgc) to obtain the GeoJSON files of New York as well as [Historical Weather API](https://open-meteo.com/en/docs/historical-weather-api#latitude=40.71&longitude=-74.01&start_date=2023-04-14&end_date=2023-04-28&hourly=temperature_2m) for New York City in 2022. "
   ]
  },
  {
   "cell_type": "code",
   "execution_count": 4,
   "metadata": {},
   "outputs": [],
   "source": [
    "df_weather = pd.read_csv(\"data/weather_hourly.csv\", index_col=False)\n",
    "df_weather[\"time\"] = pd.to_datetime(df_weather[\"time\"])"
   ]
  },
  {
   "attachments": {},
   "cell_type": "markdown",
   "metadata": {},
   "source": [
    "From this dataset we extract whether a given hour had precipitation or not. "
   ]
  },
  {
   "cell_type": "code",
   "execution_count": 5,
   "metadata": {},
   "outputs": [
    {
     "data": {
      "text/html": [
       "<div>\n",
       "<style scoped>\n",
       "    .dataframe tbody tr th:only-of-type {\n",
       "        vertical-align: middle;\n",
       "    }\n",
       "\n",
       "    .dataframe tbody tr th {\n",
       "        vertical-align: top;\n",
       "    }\n",
       "\n",
       "    .dataframe thead th {\n",
       "        text-align: right;\n",
       "    }\n",
       "</style>\n",
       "<table border=\"1\" class=\"dataframe\">\n",
       "  <thead>\n",
       "    <tr style=\"text-align: right;\">\n",
       "      <th></th>\n",
       "      <th>time</th>\n",
       "      <th>precipitation (mm)</th>\n",
       "    </tr>\n",
       "  </thead>\n",
       "  <tbody>\n",
       "    <tr>\n",
       "      <th>0</th>\n",
       "      <td>2022-01-01 00:00:00</td>\n",
       "      <td>0.0</td>\n",
       "    </tr>\n",
       "    <tr>\n",
       "      <th>1</th>\n",
       "      <td>2022-01-01 01:00:00</td>\n",
       "      <td>0.0</td>\n",
       "    </tr>\n",
       "    <tr>\n",
       "      <th>2</th>\n",
       "      <td>2022-01-01 02:00:00</td>\n",
       "      <td>0.0</td>\n",
       "    </tr>\n",
       "    <tr>\n",
       "      <th>3</th>\n",
       "      <td>2022-01-01 03:00:00</td>\n",
       "      <td>0.7</td>\n",
       "    </tr>\n",
       "    <tr>\n",
       "      <th>4</th>\n",
       "      <td>2022-01-01 04:00:00</td>\n",
       "      <td>0.0</td>\n",
       "    </tr>\n",
       "  </tbody>\n",
       "</table>\n",
       "</div>"
      ],
      "text/plain": [
       "                 time  precipitation (mm)\n",
       "0 2022-01-01 00:00:00                 0.0\n",
       "1 2022-01-01 01:00:00                 0.0\n",
       "2 2022-01-01 02:00:00                 0.0\n",
       "3 2022-01-01 03:00:00                 0.7\n",
       "4 2022-01-01 04:00:00                 0.0"
      ]
     },
     "execution_count": 5,
     "metadata": {},
     "output_type": "execute_result"
    }
   ],
   "source": [
    "df_weather.head()"
   ]
  },
  {
   "attachments": {},
   "cell_type": "markdown",
   "metadata": {},
   "source": [
    "With these two dataset we seek to gain an insight into the Taxi Habbits of the New Yorkers. We chose this dataset since it allows for exploring many interesting patterns in the data. Working with a large amount of data however requires a structured analysis. In this project we focus on investigating which factors leads to certain habbits eg. when (month, day, hour ect.) does most people hire a taxi? What is the average distance? How much tipping is done?. Furthermore we also include the location information and the weather Data.\n",
    "<br> <br>\n",
    "We highly focus on creating an interactive user experience. Since we have many features to consider we want to allow the user to choose their own investigation point and filter the data themself.  "
   ]
  },
  {
   "attachments": {},
   "cell_type": "markdown",
   "metadata": {},
   "source": [
    "## Data preprosesing and basic stats\n",
    "When investigating the data we observed a lot of values which we considered outliers. Hence extensive data cleaning is necessary. When cleaning the data observations with invalid numbers are removed. Invalid numbers are found eg in payment type, where only 1 and 2 are valid. Furthermore we made some assumptions for example:\n",
    "\n",
    "* Trip duration is >1 min but <3 hours\n",
    "* Trip distance is >0 mile but <100 miles\n",
    "* Total amount is >2.5 dollars but <1000 dollars\n",
    "\n",
    "After preprocessing we now consider 37.067.625 observations in total which is a faily large amount of observations for a single year.\n",
    "\n",
    "For further details the script *data_prep.ipynb* contains all information about data cleansing. \n",
    "\n",
    "The following code provides the basic statistics of the data"
   ]
  },
  {
   "cell_type": "code",
   "execution_count": 6,
   "metadata": {},
   "outputs": [
    {
     "data": {
      "text/html": [
       "<div>\n",
       "<style scoped>\n",
       "    .dataframe tbody tr th:only-of-type {\n",
       "        vertical-align: middle;\n",
       "    }\n",
       "\n",
       "    .dataframe tbody tr th {\n",
       "        vertical-align: top;\n",
       "    }\n",
       "\n",
       "    .dataframe thead th {\n",
       "        text-align: right;\n",
       "    }\n",
       "</style>\n",
       "<table border=\"1\" class=\"dataframe\">\n",
       "  <thead>\n",
       "    <tr style=\"text-align: right;\">\n",
       "      <th></th>\n",
       "      <th>Unnamed: 0</th>\n",
       "      <th>trip_distance</th>\n",
       "      <th>PULocationID</th>\n",
       "      <th>DOLocationID</th>\n",
       "      <th>fare_amount</th>\n",
       "      <th>tip_amount</th>\n",
       "      <th>total_amount</th>\n",
       "      <th>pickup_at</th>\n",
       "      <th>dropoff_at</th>\n",
       "      <th>duration</th>\n",
       "      <th>pickup_at_hour</th>\n",
       "    </tr>\n",
       "  </thead>\n",
       "  <tbody>\n",
       "    <tr>\n",
       "      <th>count</th>\n",
       "      <td>3.706765e+07</td>\n",
       "      <td>3.706765e+07</td>\n",
       "      <td>3.706765e+07</td>\n",
       "      <td>3.706765e+07</td>\n",
       "      <td>3.706765e+07</td>\n",
       "      <td>3.706765e+07</td>\n",
       "      <td>3.706765e+07</td>\n",
       "      <td>37067652</td>\n",
       "      <td>37067652</td>\n",
       "      <td>3.706765e+07</td>\n",
       "      <td>37067652</td>\n",
       "    </tr>\n",
       "    <tr>\n",
       "      <th>mean</th>\n",
       "      <td>1.970508e+07</td>\n",
       "      <td>3.512883e+00</td>\n",
       "      <td>1.651794e+02</td>\n",
       "      <td>1.629559e+02</td>\n",
       "      <td>1.446963e+01</td>\n",
       "      <td>2.739632e+00</td>\n",
       "      <td>2.136825e+01</td>\n",
       "      <td>2022-07-04 15:09:37.626890496</td>\n",
       "      <td>2022-07-04 15:25:19.889251584</td>\n",
       "      <td>9.422624e+02</td>\n",
       "      <td>2022-07-04 15:09:40.824000</td>\n",
       "    </tr>\n",
       "    <tr>\n",
       "      <th>min</th>\n",
       "      <td>0.000000e+00</td>\n",
       "      <td>1.000000e-02</td>\n",
       "      <td>1.000000e+00</td>\n",
       "      <td>1.000000e+00</td>\n",
       "      <td>2.520000e+00</td>\n",
       "      <td>0.000000e+00</td>\n",
       "      <td>2.820000e+00</td>\n",
       "      <td>2001-01-01 00:03:14</td>\n",
       "      <td>2001-01-01 00:34:17</td>\n",
       "      <td>6.000000e+01</td>\n",
       "      <td>2001-01-01 00:00:00</td>\n",
       "    </tr>\n",
       "    <tr>\n",
       "      <th>25%</th>\n",
       "      <td>9.816651e+06</td>\n",
       "      <td>1.130000e+00</td>\n",
       "      <td>1.320000e+02</td>\n",
       "      <td>1.130000e+02</td>\n",
       "      <td>7.000000e+00</td>\n",
       "      <td>1.000000e+00</td>\n",
       "      <td>1.230000e+01</td>\n",
       "      <td>2022-04-07 13:21:44</td>\n",
       "      <td>2022-04-07 13:40:00.750000128</td>\n",
       "      <td>4.520000e+02</td>\n",
       "      <td>2022-04-07 13:00:00</td>\n",
       "    </tr>\n",
       "    <tr>\n",
       "      <th>50%</th>\n",
       "      <td>1.961736e+07</td>\n",
       "      <td>1.900000e+00</td>\n",
       "      <td>1.620000e+02</td>\n",
       "      <td>1.620000e+02</td>\n",
       "      <td>1.000000e+01</td>\n",
       "      <td>2.160000e+00</td>\n",
       "      <td>1.595000e+01</td>\n",
       "      <td>2022-06-30 13:30:10.500000</td>\n",
       "      <td>2022-06-30 13:47:18.500000</td>\n",
       "      <td>7.350000e+02</td>\n",
       "      <td>2022-06-30 14:00:00</td>\n",
       "    </tr>\n",
       "    <tr>\n",
       "      <th>75%</th>\n",
       "      <td>2.965097e+07</td>\n",
       "      <td>3.500000e+00</td>\n",
       "      <td>2.340000e+02</td>\n",
       "      <td>2.340000e+02</td>\n",
       "      <td>1.600000e+01</td>\n",
       "      <td>3.360000e+00</td>\n",
       "      <td>2.256000e+01</td>\n",
       "      <td>2022-10-04 08:27:25</td>\n",
       "      <td>2022-10-04 08:45:39.249999872</td>\n",
       "      <td>1.181000e+03</td>\n",
       "      <td>2022-10-04 08:00:00</td>\n",
       "    </tr>\n",
       "    <tr>\n",
       "      <th>max</th>\n",
       "      <td>3.952963e+07</td>\n",
       "      <td>9.946000e+01</td>\n",
       "      <td>2.650000e+02</td>\n",
       "      <td>2.650000e+02</td>\n",
       "      <td>2.500000e+02</td>\n",
       "      <td>1.250000e+02</td>\n",
       "      <td>3.727200e+02</td>\n",
       "      <td>2023-01-01 00:31:23</td>\n",
       "      <td>2023-01-01 01:13:01</td>\n",
       "      <td>1.080000e+04</td>\n",
       "      <td>2023-01-01 01:00:00</td>\n",
       "    </tr>\n",
       "    <tr>\n",
       "      <th>std</th>\n",
       "      <td>1.143821e+07</td>\n",
       "      <td>4.437931e+00</td>\n",
       "      <td>6.476444e+01</td>\n",
       "      <td>7.004514e+01</td>\n",
       "      <td>1.287828e+01</td>\n",
       "      <td>3.071818e+00</td>\n",
       "      <td>1.647917e+01</td>\n",
       "      <td>NaN</td>\n",
       "      <td>NaN</td>\n",
       "      <td>7.460766e+02</td>\n",
       "      <td>NaN</td>\n",
       "    </tr>\n",
       "  </tbody>\n",
       "</table>\n",
       "</div>"
      ],
      "text/plain": [
       "         Unnamed: 0  trip_distance  PULocationID  DOLocationID   fare_amount   \n",
       "count  3.706765e+07   3.706765e+07  3.706765e+07  3.706765e+07  3.706765e+07  \\\n",
       "mean   1.970508e+07   3.512883e+00  1.651794e+02  1.629559e+02  1.446963e+01   \n",
       "min    0.000000e+00   1.000000e-02  1.000000e+00  1.000000e+00  2.520000e+00   \n",
       "25%    9.816651e+06   1.130000e+00  1.320000e+02  1.130000e+02  7.000000e+00   \n",
       "50%    1.961736e+07   1.900000e+00  1.620000e+02  1.620000e+02  1.000000e+01   \n",
       "75%    2.965097e+07   3.500000e+00  2.340000e+02  2.340000e+02  1.600000e+01   \n",
       "max    3.952963e+07   9.946000e+01  2.650000e+02  2.650000e+02  2.500000e+02   \n",
       "std    1.143821e+07   4.437931e+00  6.476444e+01  7.004514e+01  1.287828e+01   \n",
       "\n",
       "         tip_amount  total_amount                      pickup_at   \n",
       "count  3.706765e+07  3.706765e+07                       37067652  \\\n",
       "mean   2.739632e+00  2.136825e+01  2022-07-04 15:09:37.626890496   \n",
       "min    0.000000e+00  2.820000e+00            2001-01-01 00:03:14   \n",
       "25%    1.000000e+00  1.230000e+01            2022-04-07 13:21:44   \n",
       "50%    2.160000e+00  1.595000e+01     2022-06-30 13:30:10.500000   \n",
       "75%    3.360000e+00  2.256000e+01            2022-10-04 08:27:25   \n",
       "max    1.250000e+02  3.727200e+02            2023-01-01 00:31:23   \n",
       "std    3.071818e+00  1.647917e+01                            NaN   \n",
       "\n",
       "                          dropoff_at      duration              pickup_at_hour  \n",
       "count                       37067652  3.706765e+07                    37067652  \n",
       "mean   2022-07-04 15:25:19.889251584  9.422624e+02  2022-07-04 15:09:40.824000  \n",
       "min              2001-01-01 00:34:17  6.000000e+01         2001-01-01 00:00:00  \n",
       "25%    2022-04-07 13:40:00.750000128  4.520000e+02         2022-04-07 13:00:00  \n",
       "50%       2022-06-30 13:47:18.500000  7.350000e+02         2022-06-30 14:00:00  \n",
       "75%    2022-10-04 08:45:39.249999872  1.181000e+03         2022-10-04 08:00:00  \n",
       "max              2023-01-01 01:13:01  1.080000e+04         2023-01-01 01:00:00  \n",
       "std                              NaN  7.460766e+02                         NaN  "
      ]
     },
     "execution_count": 6,
     "metadata": {},
     "output_type": "execute_result"
    }
   ],
   "source": [
    "df.describe()"
   ]
  },
  {
   "attachments": {},
   "cell_type": "markdown",
   "metadata": {},
   "source": [
    "In the table above we observe that all variables now are in a reasonable range."
   ]
  },
  {
   "attachments": {},
   "cell_type": "markdown",
   "metadata": {},
   "source": [
    "### Grouping of data\n",
    "In order to handle the data more efficiently we divide the data into smaller csv files based on the time. In the script *export.ipynb* we group the data based on either day, month, zone or Pick-Up Zones and save them as cvs files. From these we add the following information to the dataframes\n",
    "\n",
    "* Day- or nighttime\n",
    "* Season\n",
    "* Weather\n",
    "* Manhattan or all of New York\n",
    "\n",
    "In the following we load the cvs files"
   ]
  },
  {
   "attachments": {},
   "cell_type": "markdown",
   "metadata": {},
   "source": [
    "## Data analysis"
   ]
  },
  {
   "cell_type": "code",
   "execution_count": 58,
   "metadata": {},
   "outputs": [],
   "source": [
    "df_day = pd.read_csv(\"output/day_out.csv\")\n",
    "df_month = pd.read_csv(\"output/month_out.csv\")\n",
    "df_zones = pd.read_csv(\"output/zones_out.csv\")\n",
    "df_PUzones = pd.read_csv(\"output/PUzones_out.csv\")"
   ]
  },
  {
   "cell_type": "code",
   "execution_count": 59,
   "metadata": {},
   "outputs": [],
   "source": [
    "df_day.rename(columns = {'pickup_at':'week day'}, inplace = True)\n",
    "df_month.rename(columns = {'pickup_at':'month'}, inplace = True)"
   ]
  },
  {
   "attachments": {},
   "cell_type": "markdown",
   "metadata": {},
   "source": [
    "## Genre\n",
    "\n",
    "We have choosen to visualize using the interactive slideshow genre from Segel and Heer. \n",
    "Highly reader-driven\n",
    "Visual Narrative = \n",
    "Narrative structure = Interactive\n",
    "\n"
   ]
  },
  {
   "attachments": {},
   "cell_type": "markdown",
   "metadata": {},
   "source": [
    "## Visualization"
   ]
  },
  {
   "cell_type": "code",
   "execution_count": 66,
   "metadata": {},
   "outputs": [],
   "source": [
    "def bar_plot(df, weather='all', season='all', time='all', pickup_area='all'):\n",
    "    df_att = df\n",
    "    if weather != 'all':\n",
    "        df_att = df_att[df_att[\"weather\"] == weather]\n",
    "    if season != 'all':\n",
    "        df_att = df_att[df_att[\"season\"] == season]\n",
    "    if pickup_area != 'all':\n",
    "        df_att = df_att[df_att[\"pickup_area\"] == pickup_area]\n",
    "    if time != 'all':\n",
    "        df_att = df_att[df_att[\"time\"] == time]\n",
    "    \n",
    "    df_att = df_att[[df.columns[0],'number_of_trips']]\n",
    "    df_att = df_att.set_index(df.columns[0])\n",
    "    fig = plt.figure(figsize=(10,5))\n",
    "    ax = fig.add_subplot()\n",
    "    df_att.plot(ax=ax, kind='bar', xlabel=df.columns[0], ylabel=\"Occurences\")\n",
    "    ax.tick_params(axis='x', labelrotation = 0)\n",
    "    fig.suptitle('Number of pickups per ' + df.columns[0])\n",
    "    fig.tight_layout(rect=[0, 0, 1, 0.99])\n",
    "    fig.show()"
   ]
  },
  {
   "cell_type": "code",
   "execution_count": 67,
   "metadata": {},
   "outputs": [
    {
     "name": "stderr",
     "output_type": "stream",
     "text": [
      "C:\\Users\\anned\\AppData\\Local\\Temp\\ipykernel_16232\\1434113309.py:20: UserWarning: Matplotlib is currently using module://matplotlib_inline.backend_inline, which is a non-GUI backend, so cannot show the figure.\n",
      "  fig.show()\n"
     ]
    },
    {
     "data": {
      "image/png": "[encoded data removed]",
      "text/plain": [
       "<Figure size 1000x500 with 1 Axes>"
      ]
     },
     "metadata": {},
     "output_type": "display_data"
    }
   ],
   "source": [
    "bar_plot(df_month, weather='rainy', season='summer', time='day', pickup_area='manhattan')"
   ]
  },
  {
   "attachments": {},
   "cell_type": "markdown",
   "metadata": {},
   "source": [
    "## Discussion"
   ]
  },
  {
   "attachments": {},
   "cell_type": "markdown",
   "metadata": {},
   "source": [
    "## Contributions"
   ]
  }
 ],
 "metadata": {
  "kernelspec": {
   "display_name": "ml",
   "language": "python",
   "name": "python3"
  },
  "language_info": {
   "codemirror_mode": {
    "name": "ipython",
    "version": 3
   },
   "file_extension": ".py",
   "mimetype": "text/x-python",
   "name": "python",
   "nbconvert_exporter": "python",
   "pygments_lexer": "ipython3",
   "version": "3.9.16"
  },
  "orig_nbformat": 4
 },
 "nbformat": 4,
 "nbformat_minor": 2
}
