{
 "cells": [
  {
   "cell_type": "code",
   "execution_count": null,
   "metadata": {},
   "outputs": [],
   "source": [
    "import pandas as pd\n",
    "import matplotlib.pyplot as plt\n",
    "import pyarrow.parquet as pq\n",
    "import geojson\n",
    "import plotly.express as px\n",
    "import plotly.io as pio\n",
    "import json"
   ]
  },
  {
   "cell_type": "code",
   "execution_count": null,
   "metadata": {},
   "outputs": [],
   "source": [
    "def load_trips():\n",
    "    df = pd.DataFrame()\n",
    "    for month in range(1, 13):\n",
    "        trips = pq.read_table(f'data/yellow_tripdata_2022-{month:02}.parquet')\n",
    "        trips_df = trips.to_pandas()\n",
    "        # Append data\n",
    "        df = pd.concat((df, trips_df), ignore_index=True)# df.concat(trips_df, ignore_index=True)\n",
    "\n",
    "    return df\n",
    "\n",
    "#df = load_trips()\n",
    "#df.to_csv('data/yellow_tripdata_combined.csv')\n",
    "df = pd.read_csv('data/yellow_tripdata_combined.csv')"
   ]
  },
  {
   "cell_type": "code",
   "execution_count": null,
   "metadata": {},
   "outputs": [],
   "source": [
    "# Process some data\n",
    "df[\"pickup_at\"] = pd.to_datetime(df[\"tpep_pickup_datetime\"])\n",
    "df[\"dropoff_at\"] = pd.to_datetime(df[\"tpep_dropoff_datetime\"])\n",
    "df"
   ]
  },
  {
   "cell_type": "code",
   "execution_count": null,
   "metadata": {},
   "outputs": [],
   "source": [
    "with open(\"data/nyc-taxi-zones.geojson\") as f:\n",
    "    taxi_zones = json.load(f)"
   ]
  },
  {
   "cell_type": "code",
   "execution_count": null,
   "metadata": {},
   "outputs": [],
   "source": [
    "pickups = df.groupby(\"PULocationID\").size().reset_index()\n",
    "pickups.columns = [\"PULocationID\", \"Pickups\"]\n",
    "pickups\n",
    "\n",
    "# TODO: Add a column for the zone name in properties.zone\n",
    "# Extract both zone names and location IDs\n",
    "zones = pd.DataFrame(taxi_zones[\"features\"]).apply(lambda x: x[\"properties\"][\"zone\"], axis=1)\n",
    "locations = pd.DataFrame(taxi_zones[\"features\"]).apply(lambda x: x[\"properties\"][\"location_id\"], axis=1)\n",
    "# Merge the two dataframes\n",
    "zones = pd.concat((zones, locations), axis=1)\n",
    "zones.columns = [\"zone\", \"location_id\"]\n",
    "\n",
    "zones[\"location_id\"] = zones[\"location_id\"].astype(int)\n",
    "# Add zone name to pickups\n",
    "pickups = pd.merge(pickups, zones, left_on=\"PULocationID\", right_on=\"location_id\")\n",
    "\n",
    "# Make timestamps for pickups\n",
    "pickups\n"
   ]
  },
  {
   "cell_type": "code",
   "execution_count": null,
   "metadata": {},
   "outputs": [],
   "source": [
    "# Make map\n",
    "fig = px.choropleth_mapbox(\n",
    "    pickups,\n",
    "    geojson=taxi_zones,\n",
    "    locations=\"PULocationID\",\n",
    "    color=\"Pickups\",\n",
    "    color_continuous_scale=\"Viridis\",\n",
    "    featureidkey=\"properties.location_id\",\n",
    "    range_color=(pickups[\"Pickups\"].min(), pickups[\"Pickups\"].max()),\n",
    "    mapbox_style=\"carto-positron\",\n",
    "    zoom=9,\n",
    "    center = {\"lat\": 40.7128, \"lon\": -74.0060},\n",
    "    opacity=0.5,\n",
    "    labels={'Pickups':'Number of pickups', 'PULocationID':'Pickup location ID'},\n",
    "    hover_name=\"zone\",\n",
    ")\n",
    "\n",
    "fig.update_layout(margin={\"r\":0,\"t\":0,\"l\":0,\"b\":0})\n",
    "\n",
    "#fig.show()\n",
    "pio.write_html(fig, file=\"map_plot.html\")"
   ]
  },
  {
   "cell_type": "code",
   "execution_count": null,
   "metadata": {},
   "outputs": [],
   "source": [
    "df.groupby([df[\"pickup_at\"].dt.hour]).size().plot(kind=\"bar\", title=\"Pickups by hour\", xlabel=\"Hour\", ylabel=\"Number of pickups\")"
   ]
  },
  {
   "cell_type": "code",
   "execution_count": null,
   "metadata": {},
   "outputs": [],
   "source": [
    "# In range 0 - 50 usd\n",
    "df[\"tip_amount\"].plot(kind=\"hist\", title=\"Tip amount\", xlabel=\"Tip amount\", ylabel=\"Number of pickups\", bins=50, range=(0, 20))"
   ]
  },
  {
   "cell_type": "code",
   "execution_count": null,
   "metadata": {},
   "outputs": [],
   "source": [
    "# Scatter plot of distance and fare amount of the first 1000 trips\n",
    "first_trips = df[:10000]\n",
    "\n",
    "# Include trend\n",
    "first_trips.plot(kind=\"scatter\", x=\"trip_distance\", y=\"fare_amount\", title=\"Distance vs. fare\", xlabel=\"Distance\", ylabel=\"Fare\")\n",
    "\n",
    "#df.plot(kind=\"scatter\", x=\"trip_distance\", y=\"fare_amount\", title=\"Distance vs. fare\", xlabel=\"Distance\", ylabel=\"Fare\")"
   ]
  },
  {
   "cell_type": "code",
   "execution_count": null,
   "metadata": {},
   "outputs": [],
   "source": [
    "# Interesting, that some of the fares are negative. This could be due to disputes or refunds. \n",
    "first_trips[first_trips[\"fare_amount\"] < 0]"
   ]
  },
  {
   "cell_type": "code",
   "execution_count": null,
   "metadata": {},
   "outputs": [],
   "source": [
    "# Make boxplots of fare amount and tip amount\n",
    "\n",
    "first_trips.boxplot(column=[\"fare_amount\", \"tip_amount\"], grid=False, showfliers=True, showmeans=True, meanline=True, vert=False, labels=[\"Fare amount\", \"Tip amount\"])"
   ]
  },
  {
   "cell_type": "code",
   "execution_count": null,
   "metadata": {},
   "outputs": [],
   "source": [
    "first_trips[\"tip_amount\"].max()"
   ]
  },
  {
   "cell_type": "code",
   "execution_count": null,
   "metadata": {},
   "outputs": [],
   "source": []
  }
 ],
 "metadata": {
  "kernelspec": {
   "display_name": "ml",
   "language": "python",
   "name": "python3"
  },
  "language_info": {
   "codemirror_mode": {
    "name": "ipython",
    "version": 3
   },
   "file_extension": ".py",
   "mimetype": "text/x-python",
   "name": "python",
   "nbconvert_exporter": "python",
   "pygments_lexer": "ipython3",
   "version": "3.10.10"
  },
  "orig_nbformat": 4
 },
 "nbformat": 4,
 "nbformat_minor": 2
}
