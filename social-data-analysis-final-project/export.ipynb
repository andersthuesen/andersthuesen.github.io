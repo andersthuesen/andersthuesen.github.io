{
 "cells": [
  {
   "cell_type": "code",
   "execution_count": 1,
   "metadata": {},
   "outputs": [],
   "source": [
    "import pandas as pd\n",
    "from pandas.api.types import CategoricalDtype"
   ]
  },
  {
   "cell_type": "code",
   "execution_count": 2,
   "metadata": {},
   "outputs": [],
   "source": [
    "df = pd.read_csv(\"data/yellow_tripdata_combined_cleaned_focus.csv\")"
   ]
  },
  {
   "cell_type": "code",
   "execution_count": 3,
   "metadata": {},
   "outputs": [
    {
     "data": {
      "text/html": [
       "<div>\n",
       "<style scoped>\n",
       "    .dataframe tbody tr th:only-of-type {\n",
       "        vertical-align: middle;\n",
       "    }\n",
       "\n",
       "    .dataframe tbody tr th {\n",
       "        vertical-align: top;\n",
       "    }\n",
       "\n",
       "    .dataframe thead th {\n",
       "        text-align: right;\n",
       "    }\n",
       "</style>\n",
       "<table border=\"1\" class=\"dataframe\">\n",
       "  <thead>\n",
       "    <tr style=\"text-align: right;\">\n",
       "      <th></th>\n",
       "      <th>Unnamed: 0</th>\n",
       "      <th>trip_distance</th>\n",
       "      <th>PULocationID</th>\n",
       "      <th>DOLocationID</th>\n",
       "      <th>fare_amount</th>\n",
       "      <th>tip_amount</th>\n",
       "      <th>total_amount</th>\n",
       "      <th>pickup_at</th>\n",
       "      <th>dropoff_at</th>\n",
       "      <th>duration</th>\n",
       "    </tr>\n",
       "  </thead>\n",
       "  <tbody>\n",
       "    <tr>\n",
       "      <th>0</th>\n",
       "      <td>0</td>\n",
       "      <td>3.80</td>\n",
       "      <td>142</td>\n",
       "      <td>236</td>\n",
       "      <td>14.5</td>\n",
       "      <td>3.65</td>\n",
       "      <td>21.95</td>\n",
       "      <td>2022-01-01 00:35:40</td>\n",
       "      <td>2022-01-01 00:53:29</td>\n",
       "      <td>1069.0</td>\n",
       "    </tr>\n",
       "    <tr>\n",
       "      <th>1</th>\n",
       "      <td>1</td>\n",
       "      <td>2.10</td>\n",
       "      <td>236</td>\n",
       "      <td>42</td>\n",
       "      <td>8.0</td>\n",
       "      <td>4.00</td>\n",
       "      <td>13.30</td>\n",
       "      <td>2022-01-01 00:33:43</td>\n",
       "      <td>2022-01-01 00:42:07</td>\n",
       "      <td>504.0</td>\n",
       "    </tr>\n",
       "    <tr>\n",
       "      <th>2</th>\n",
       "      <td>2</td>\n",
       "      <td>0.97</td>\n",
       "      <td>166</td>\n",
       "      <td>166</td>\n",
       "      <td>7.5</td>\n",
       "      <td>1.76</td>\n",
       "      <td>10.56</td>\n",
       "      <td>2022-01-01 00:53:21</td>\n",
       "      <td>2022-01-01 01:02:19</td>\n",
       "      <td>538.0</td>\n",
       "    </tr>\n",
       "    <tr>\n",
       "      <th>3</th>\n",
       "      <td>3</td>\n",
       "      <td>1.09</td>\n",
       "      <td>114</td>\n",
       "      <td>68</td>\n",
       "      <td>8.0</td>\n",
       "      <td>0.00</td>\n",
       "      <td>11.80</td>\n",
       "      <td>2022-01-01 00:25:21</td>\n",
       "      <td>2022-01-01 00:35:23</td>\n",
       "      <td>602.0</td>\n",
       "    </tr>\n",
       "    <tr>\n",
       "      <th>4</th>\n",
       "      <td>4</td>\n",
       "      <td>4.30</td>\n",
       "      <td>68</td>\n",
       "      <td>163</td>\n",
       "      <td>23.5</td>\n",
       "      <td>3.00</td>\n",
       "      <td>30.30</td>\n",
       "      <td>2022-01-01 00:36:48</td>\n",
       "      <td>2022-01-01 01:14:20</td>\n",
       "      <td>2252.0</td>\n",
       "    </tr>\n",
       "  </tbody>\n",
       "</table>\n",
       "</div>"
      ],
      "text/plain": [
       "   Unnamed: 0  trip_distance  PULocationID  DOLocationID  fare_amount   \n",
       "0           0           3.80           142           236         14.5  \\\n",
       "1           1           2.10           236            42          8.0   \n",
       "2           2           0.97           166           166          7.5   \n",
       "3           3           1.09           114            68          8.0   \n",
       "4           4           4.30            68           163         23.5   \n",
       "\n",
       "   tip_amount  total_amount            pickup_at           dropoff_at   \n",
       "0        3.65         21.95  2022-01-01 00:35:40  2022-01-01 00:53:29  \\\n",
       "1        4.00         13.30  2022-01-01 00:33:43  2022-01-01 00:42:07   \n",
       "2        1.76         10.56  2022-01-01 00:53:21  2022-01-01 01:02:19   \n",
       "3        0.00         11.80  2022-01-01 00:25:21  2022-01-01 00:35:23   \n",
       "4        3.00         30.30  2022-01-01 00:36:48  2022-01-01 01:14:20   \n",
       "\n",
       "   duration  \n",
       "0    1069.0  \n",
       "1     504.0  \n",
       "2     538.0  \n",
       "3     602.0  \n",
       "4    2252.0  "
      ]
     },
     "execution_count": 3,
     "metadata": {},
     "output_type": "execute_result"
    }
   ],
   "source": [
    "df.head()"
   ]
  },
  {
   "cell_type": "code",
   "execution_count": 4,
   "metadata": {},
   "outputs": [],
   "source": [
    "df[\"pickup_at\"] = pd.to_datetime(df[\"pickup_at\"])\n",
    "df[\"dropoff_at\"] = pd.to_datetime(df[\"dropoff_at\"])\n",
    "df[\"pickup_at_hour\"] = df[\"pickup_at\"].dt.floor(\"H\")\n",
    "df[\"duration\"] = df[\"duration\"]/60"
   ]
  },
  {
   "cell_type": "code",
   "execution_count": 5,
   "metadata": {},
   "outputs": [],
   "source": [
    "df_weather = pd.read_csv(\"data/weather_hourly.csv\", index_col=False)\n",
    "df_weather[\"time\"] = pd.to_datetime(df_weather[\"time\"])"
   ]
  },
  {
   "cell_type": "code",
   "execution_count": 6,
   "metadata": {},
   "outputs": [
    {
     "data": {
      "text/html": [
       "<div>\n",
       "<style scoped>\n",
       "    .dataframe tbody tr th:only-of-type {\n",
       "        vertical-align: middle;\n",
       "    }\n",
       "\n",
       "    .dataframe tbody tr th {\n",
       "        vertical-align: top;\n",
       "    }\n",
       "\n",
       "    .dataframe thead th {\n",
       "        text-align: right;\n",
       "    }\n",
       "</style>\n",
       "<table border=\"1\" class=\"dataframe\">\n",
       "  <thead>\n",
       "    <tr style=\"text-align: right;\">\n",
       "      <th></th>\n",
       "      <th>time</th>\n",
       "      <th>precipitation (mm)</th>\n",
       "    </tr>\n",
       "  </thead>\n",
       "  <tbody>\n",
       "    <tr>\n",
       "      <th>0</th>\n",
       "      <td>2022-01-01 00:00:00</td>\n",
       "      <td>0.0</td>\n",
       "    </tr>\n",
       "    <tr>\n",
       "      <th>1</th>\n",
       "      <td>2022-01-01 01:00:00</td>\n",
       "      <td>0.0</td>\n",
       "    </tr>\n",
       "    <tr>\n",
       "      <th>2</th>\n",
       "      <td>2022-01-01 02:00:00</td>\n",
       "      <td>0.0</td>\n",
       "    </tr>\n",
       "    <tr>\n",
       "      <th>3</th>\n",
       "      <td>2022-01-01 03:00:00</td>\n",
       "      <td>0.7</td>\n",
       "    </tr>\n",
       "    <tr>\n",
       "      <th>4</th>\n",
       "      <td>2022-01-01 04:00:00</td>\n",
       "      <td>0.0</td>\n",
       "    </tr>\n",
       "  </tbody>\n",
       "</table>\n",
       "</div>"
      ],
      "text/plain": [
       "                 time  precipitation (mm)\n",
       "0 2022-01-01 00:00:00                 0.0\n",
       "1 2022-01-01 01:00:00                 0.0\n",
       "2 2022-01-01 02:00:00                 0.0\n",
       "3 2022-01-01 03:00:00                 0.7\n",
       "4 2022-01-01 04:00:00                 0.0"
      ]
     },
     "execution_count": 6,
     "metadata": {},
     "output_type": "execute_result"
    }
   ],
   "source": [
    "df_weather.head()"
   ]
  },
  {
   "cell_type": "code",
   "execution_count": 7,
   "metadata": {},
   "outputs": [],
   "source": [
    "# Merge trips data (df) with weather data for that particular hour\n",
    "# (df_weather) on the \"time\" column.\n",
    "#\n",
    "#small[\"pickup_at\"].dt.round(\"H\")\n",
    "merged = pd.merge(df, df_weather, left_on=\"pickup_at_hour\", right_on=\"time\")"
   ]
  },
  {
   "cell_type": "code",
   "execution_count": 8,
   "metadata": {},
   "outputs": [
    {
     "name": "stderr",
     "output_type": "stream",
     "text": [
      "C:\\Users\\anned\\AppData\\Local\\Temp\\ipykernel_8620\\4246521071.py:4: SettingWithCopyWarning: \n",
      "A value is trying to be set on a copy of a slice from a DataFrame\n",
      "\n",
      "See the caveats in the documentation: https://pandas.pydata.org/pandas-docs/stable/user_guide/indexing.html#returning-a-view-versus-a-copy\n",
      "  merged[\"weather\"][merged[\"precipitation (mm)\"] > 0] = \"rainy\"\n"
     ]
    }
   ],
   "source": [
    "# Make new column \"weather\" that is \"rainy\" if precipitation > 0, else \"sunny\".\n",
    "\n",
    "merged[\"weather\"] = \"sunny\"\n",
    "merged[\"weather\"][merged[\"precipitation (mm)\"] > 0] = \"rainy\""
   ]
  },
  {
   "cell_type": "code",
   "execution_count": 9,
   "metadata": {},
   "outputs": [
    {
     "name": "stderr",
     "output_type": "stream",
     "text": [
      "C:\\Users\\anned\\AppData\\Local\\Temp\\ipykernel_8620\\2682998250.py:3: SettingWithCopyWarning: \n",
      "A value is trying to be set on a copy of a slice from a DataFrame\n",
      "\n",
      "See the caveats in the documentation: https://pandas.pydata.org/pandas-docs/stable/user_guide/indexing.html#returning-a-view-versus-a-copy\n",
      "  merged[\"time\"][20 < merged[\"pickup_at\"].dt.hour] = \"night\"\n",
      "C:\\Users\\anned\\AppData\\Local\\Temp\\ipykernel_8620\\2682998250.py:4: SettingWithCopyWarning: \n",
      "A value is trying to be set on a copy of a slice from a DataFrame\n",
      "\n",
      "See the caveats in the documentation: https://pandas.pydata.org/pandas-docs/stable/user_guide/indexing.html#returning-a-view-versus-a-copy\n",
      "  merged[\"time\"][merged[\"pickup_at\"].dt.hour < 6] = \"night\"\n"
     ]
    }
   ],
   "source": [
    "# day/night, sunny/rainy, spring/summer/fall/winter, area (manhattan/all)\n",
    "merged[\"time\"] = \"day\"\n",
    "merged[\"time\"][20 < merged[\"pickup_at\"].dt.hour] = \"night\"\n",
    "merged[\"time\"][merged[\"pickup_at\"].dt.hour < 6] = \"night\""
   ]
  },
  {
   "cell_type": "code",
   "execution_count": 10,
   "metadata": {},
   "outputs": [
    {
     "name": "stderr",
     "output_type": "stream",
     "text": [
      "C:\\Users\\anned\\AppData\\Local\\Temp\\ipykernel_8620\\3562136131.py:4: SettingWithCopyWarning: \n",
      "A value is trying to be set on a copy of a slice from a DataFrame\n",
      "\n",
      "See the caveats in the documentation: https://pandas.pydata.org/pandas-docs/stable/user_guide/indexing.html#returning-a-view-versus-a-copy\n",
      "  merged[\"pickup_area\"][merged[\"PULocationID\"].isin(manhattan_location_ids)] = \"manhattan\"\n",
      "C:\\Users\\anned\\AppData\\Local\\Temp\\ipykernel_8620\\3562136131.py:5: SettingWithCopyWarning: \n",
      "A value is trying to be set on a copy of a slice from a DataFrame\n",
      "\n",
      "See the caveats in the documentation: https://pandas.pydata.org/pandas-docs/stable/user_guide/indexing.html#returning-a-view-versus-a-copy\n",
      "  merged[\"dropoff_area\"][merged[\"DOLocationID\"].isin(manhattan_location_ids)] = \"manhattan\"\n"
     ]
    }
   ],
   "source": [
    "merged[\"pickup_area\"] = \"not manhattan\"\n",
    "merged[\"dropoff_area\"] = \"not manhattan\"\n",
    "manhattan_location_ids = [103, 104, 105, 12, 88, 87, 209, 261, 13, 45, 231, 232, 148, 144, 211, 125, 4, 79, 114, 113, 249, 158, 224, 107, 234, 90, 68, 246, 186, 164, 137, 170, 233, 100, 229, 162, 161, 230, 48, 50, 202, 140, 141, 237, 142, 143, 43, 262, 263, 236, 239, 238, 75, 151, 24, 74, 41, 166, 194, 42, 152, 116, 244, 120, 243, 127, 128, 153]\n",
    "merged[\"pickup_area\"][merged[\"PULocationID\"].isin(manhattan_location_ids)] = \"manhattan\"\n",
    "merged[\"dropoff_area\"][merged[\"DOLocationID\"].isin(manhattan_location_ids)] = \"manhattan\""
   ]
  },
  {
   "cell_type": "code",
   "execution_count": 11,
   "metadata": {},
   "outputs": [
    {
     "name": "stderr",
     "output_type": "stream",
     "text": [
      "C:\\Users\\anned\\AppData\\Local\\Temp\\ipykernel_8620\\3454911036.py:2: SettingWithCopyWarning: \n",
      "A value is trying to be set on a copy of a slice from a DataFrame\n",
      "\n",
      "See the caveats in the documentation: https://pandas.pydata.org/pandas-docs/stable/user_guide/indexing.html#returning-a-view-versus-a-copy\n",
      "  merged[\"season\"][(merged[\"pickup_at\"].dt.month > 2) & (merged[\"pickup_at\"].dt.month < 6)] = \"spring\"\n",
      "C:\\Users\\anned\\AppData\\Local\\Temp\\ipykernel_8620\\3454911036.py:3: SettingWithCopyWarning: \n",
      "A value is trying to be set on a copy of a slice from a DataFrame\n",
      "\n",
      "See the caveats in the documentation: https://pandas.pydata.org/pandas-docs/stable/user_guide/indexing.html#returning-a-view-versus-a-copy\n",
      "  merged[\"season\"][(merged[\"pickup_at\"].dt.month > 5) & (merged[\"pickup_at\"].dt.month < 9)] = \"summer\"\n",
      "C:\\Users\\anned\\AppData\\Local\\Temp\\ipykernel_8620\\3454911036.py:4: SettingWithCopyWarning: \n",
      "A value is trying to be set on a copy of a slice from a DataFrame\n",
      "\n",
      "See the caveats in the documentation: https://pandas.pydata.org/pandas-docs/stable/user_guide/indexing.html#returning-a-view-versus-a-copy\n",
      "  merged[\"season\"][(merged[\"pickup_at\"].dt.month > 8) & (merged[\"pickup_at\"].dt.month < 12)] = \"fall\"\n"
     ]
    }
   ],
   "source": [
    "merged[\"season\"] = \"winter\"\n",
    "merged[\"season\"][(merged[\"pickup_at\"].dt.month > 2) & (merged[\"pickup_at\"].dt.month < 6)] = \"spring\"\n",
    "merged[\"season\"][(merged[\"pickup_at\"].dt.month > 5) & (merged[\"pickup_at\"].dt.month < 9)] = \"summer\"\n",
    "merged[\"season\"][(merged[\"pickup_at\"].dt.month > 8) & (merged[\"pickup_at\"].dt.month < 12)] = \"fall\""
   ]
  },
  {
   "cell_type": "code",
   "execution_count": 12,
   "metadata": {},
   "outputs": [],
   "source": [
    "focus = ['trip_distance','fare_amount','tip_amount','total_amount','duration']"
   ]
  },
  {
   "cell_type": "code",
   "execution_count": 13,
   "metadata": {},
   "outputs": [],
   "source": [
    "dayname_type = CategoricalDtype(categories=[\"Monday\", \"Tuesday\", \"Wednesday\", \"Thursday\", \"Friday\", \"Saturday\", \"Sunday\"], ordered=True)\n",
    "by_dayname = merged.groupby([\n",
    "    merged[\"pickup_at\"].dt.day_name().astype(dayname_type),\n",
    "    merged[\"weather\"], \n",
    "    merged[\"season\"], \n",
    "    merged[\"time\"], \n",
    "    merged[\"pickup_area\"]\n",
    "])"
   ]
  },
  {
   "cell_type": "code",
   "execution_count": 14,
   "metadata": {},
   "outputs": [],
   "source": [
    "day_out = pd.concat((\n",
    "    by_dayname[focus].sum(), \n",
    "    by_dayname[\"duration\"].count() # Don't need to choose an attribute here, since we're just counting the number of rows.\n",
    "), axis=1)\n",
    "day_out.columns = focus + [ \"number_of_trips\"]\n",
    "day_out = day_out.loc[day_out['number_of_trips']!=0]\n",
    "day_out.to_csv(\"output/day_out.csv\")"
   ]
  },
  {
   "cell_type": "code",
   "execution_count": 15,
   "metadata": {},
   "outputs": [],
   "source": [
    "monthname_type = CategoricalDtype(categories=[\"January\", \"February\", \"March\", \"April\", \"May\", \"June\", \"July\", \"August\", \"September\", \"October\", \"November\", \"December\"], ordered=True)\n",
    "by_monthname = merged.groupby([\n",
    "    merged[\"pickup_at\"].dt.month_name().astype(monthname_type),\n",
    "    merged[\"weather\"], \n",
    "    merged[\"season\"], \n",
    "    merged[\"time\"], \n",
    "    merged[\"pickup_area\"]\n",
    "])"
   ]
  },
  {
   "cell_type": "code",
   "execution_count": 16,
   "metadata": {},
   "outputs": [],
   "source": [
    "month_out = pd.concat((\n",
    "    by_monthname[focus].sum(), \n",
    "    by_monthname[\"duration\"].count() # Don't need to choose an attribute here, since we're just counting the number of rows.\n",
    "), axis=1)\n",
    "month_out.columns = focus + [ \"number_of_trips\"]\n",
    "month_out = month_out.loc[month_out['number_of_trips']!=0]\n",
    "month_out.to_csv(\"output/month_out.csv\")"
   ]
  },
  {
   "cell_type": "code",
   "execution_count": 17,
   "metadata": {},
   "outputs": [],
   "source": [
    "by_zones = merged.groupby([\n",
    "    merged[\"PULocationID\"],\n",
    "    merged[\"DOLocationID\"],\n",
    "    merged[\"weather\"], \n",
    "    merged[\"season\"], \n",
    "    merged[\"time\"], \n",
    "    merged[\"pickup_area\"]\n",
    "])"
   ]
  },
  {
   "cell_type": "code",
   "execution_count": 18,
   "metadata": {},
   "outputs": [],
   "source": [
    "zones_out = pd.concat((\n",
    "    by_zones[focus].sum(), \n",
    "    by_zones[\"duration\"].count() # Don't need to choose an attribute here, since we're just counting the number of rows.\n",
    "), axis=1)\n",
    "zones_out.columns = focus + [ \"number_of_trips\"]\n",
    "zones_out = zones_out.loc[zones_out['number_of_trips']!=0]\n",
    "zones_out.to_csv(\"output/zones_out.csv\")"
   ]
  },
  {
   "cell_type": "code",
   "execution_count": 19,
   "metadata": {},
   "outputs": [],
   "source": [
    "by_PUzone = merged.groupby([\n",
    "    merged[\"PULocationID\"],\n",
    "    merged[\"weather\"], \n",
    "    merged[\"season\"], \n",
    "    merged[\"time\"], \n",
    "    merged[\"pickup_area\"]\n",
    "])"
   ]
  },
  {
   "cell_type": "code",
   "execution_count": 20,
   "metadata": {},
   "outputs": [],
   "source": [
    "PUzone_out = pd.concat((\n",
    "    by_PUzone[focus].sum(), \n",
    "    by_PUzone[\"duration\"].count() # Don't need to choose an attribute here, since we're just counting the number of rows.\n",
    "), axis=1)\n",
    "PUzone_out.columns = focus + [ \"number_of_trips\"]\n",
    "PUzone_out = PUzone_out.loc[PUzone_out['number_of_trips']!=0]\n",
    "PUzone_out.to_csv(\"output/PUzones_out.csv\")"
   ]
  },
  {
   "cell_type": "code",
   "execution_count": 21,
   "metadata": {},
   "outputs": [],
   "source": [
    "by_DOzone = merged.groupby([\n",
    "    merged[\"DOLocationID\"],\n",
    "    merged[\"weather\"], \n",
    "    merged[\"season\"], \n",
    "    merged[\"time\"], \n",
    "    merged[\"pickup_area\"]\n",
    "])"
   ]
  },
  {
   "cell_type": "code",
   "execution_count": 22,
   "metadata": {},
   "outputs": [],
   "source": [
    "DOzone_out = pd.concat((\n",
    "    by_DOzone[focus].sum(), \n",
    "    by_DOzone[\"duration\"].count() # Don't need to choose an attribute here, since we're just counting the number of rows.\n",
    "), axis=1)\n",
    "DOzone_out.columns = focus + [ \"number_of_trips\"]\n",
    "DOzone_out = DOzone_out.loc[DOzone_out['number_of_trips']!=0]\n",
    "DOzone_out.to_csv(\"output/DOzones_out.csv\")"
   ]
  }
 ],
 "metadata": {
  "kernelspec": {
   "display_name": "ml",
   "language": "python",
   "name": "python3"
  },
  "language_info": {
   "codemirror_mode": {
    "name": "ipython",
    "version": 3
   },
   "file_extension": ".py",
   "mimetype": "text/x-python",
   "name": "python",
   "nbconvert_exporter": "python",
   "pygments_lexer": "ipython3",
   "version": "3.9.16"
  },
  "orig_nbformat": 4
 },
 "nbformat": 4,
 "nbformat_minor": 2
}
