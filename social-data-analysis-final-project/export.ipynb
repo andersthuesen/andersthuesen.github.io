{
 "cells": [
  {
   "cell_type": "code",
   "execution_count": 22,
   "metadata": {},
   "outputs": [],
   "source": [
    "import pandas as pd\n",
    "from pandas.api.types import CategoricalDtype"
   ]
  },
  {
   "cell_type": "code",
   "execution_count": 2,
   "metadata": {},
   "outputs": [],
   "source": [
    "df = pd.read_csv(\"data/yellow_tripdata_combined_cleaned.csv\")"
   ]
  },
  {
   "cell_type": "code",
   "execution_count": 5,
   "metadata": {},
   "outputs": [
    {
     "data": {
      "text/html": [
       "<div>\n",
       "<style scoped>\n",
       "    .dataframe tbody tr th:only-of-type {\n",
       "        vertical-align: middle;\n",
       "    }\n",
       "\n",
       "    .dataframe tbody tr th {\n",
       "        vertical-align: top;\n",
       "    }\n",
       "\n",
       "    .dataframe thead th {\n",
       "        text-align: right;\n",
       "    }\n",
       "</style>\n",
       "<table border=\"1\" class=\"dataframe\">\n",
       "  <thead>\n",
       "    <tr style=\"text-align: right;\">\n",
       "      <th></th>\n",
       "      <th>Unnamed: 0</th>\n",
       "      <th>VendorID</th>\n",
       "      <th>tpep_pickup_datetime</th>\n",
       "      <th>tpep_dropoff_datetime</th>\n",
       "      <th>passenger_count</th>\n",
       "      <th>trip_distance</th>\n",
       "      <th>RatecodeID</th>\n",
       "      <th>store_and_fwd_flag</th>\n",
       "      <th>PULocationID</th>\n",
       "      <th>DOLocationID</th>\n",
       "      <th>...</th>\n",
       "      <th>mta_tax</th>\n",
       "      <th>tip_amount</th>\n",
       "      <th>tolls_amount</th>\n",
       "      <th>improvement_surcharge</th>\n",
       "      <th>total_amount</th>\n",
       "      <th>congestion_surcharge</th>\n",
       "      <th>airport_fee</th>\n",
       "      <th>pickup_at</th>\n",
       "      <th>dropoff_at</th>\n",
       "      <th>duration</th>\n",
       "    </tr>\n",
       "  </thead>\n",
       "  <tbody>\n",
       "    <tr>\n",
       "      <th>0</th>\n",
       "      <td>0</td>\n",
       "      <td>1</td>\n",
       "      <td>2022-01-01 00:35:40</td>\n",
       "      <td>2022-01-01 00:53:29</td>\n",
       "      <td>2.0</td>\n",
       "      <td>3.80</td>\n",
       "      <td>1.0</td>\n",
       "      <td>N</td>\n",
       "      <td>142</td>\n",
       "      <td>236</td>\n",
       "      <td>...</td>\n",
       "      <td>0.5</td>\n",
       "      <td>3.65</td>\n",
       "      <td>0.0</td>\n",
       "      <td>0.3</td>\n",
       "      <td>21.95</td>\n",
       "      <td>2.5</td>\n",
       "      <td>0.0</td>\n",
       "      <td>2022-01-01 00:35:40</td>\n",
       "      <td>2022-01-01 00:53:29</td>\n",
       "      <td>1069.0</td>\n",
       "    </tr>\n",
       "    <tr>\n",
       "      <th>1</th>\n",
       "      <td>1</td>\n",
       "      <td>1</td>\n",
       "      <td>2022-01-01 00:33:43</td>\n",
       "      <td>2022-01-01 00:42:07</td>\n",
       "      <td>1.0</td>\n",
       "      <td>2.10</td>\n",
       "      <td>1.0</td>\n",
       "      <td>N</td>\n",
       "      <td>236</td>\n",
       "      <td>42</td>\n",
       "      <td>...</td>\n",
       "      <td>0.5</td>\n",
       "      <td>4.00</td>\n",
       "      <td>0.0</td>\n",
       "      <td>0.3</td>\n",
       "      <td>13.30</td>\n",
       "      <td>0.0</td>\n",
       "      <td>0.0</td>\n",
       "      <td>2022-01-01 00:33:43</td>\n",
       "      <td>2022-01-01 00:42:07</td>\n",
       "      <td>504.0</td>\n",
       "    </tr>\n",
       "    <tr>\n",
       "      <th>2</th>\n",
       "      <td>2</td>\n",
       "      <td>2</td>\n",
       "      <td>2022-01-01 00:53:21</td>\n",
       "      <td>2022-01-01 01:02:19</td>\n",
       "      <td>1.0</td>\n",
       "      <td>0.97</td>\n",
       "      <td>1.0</td>\n",
       "      <td>N</td>\n",
       "      <td>166</td>\n",
       "      <td>166</td>\n",
       "      <td>...</td>\n",
       "      <td>0.5</td>\n",
       "      <td>1.76</td>\n",
       "      <td>0.0</td>\n",
       "      <td>0.3</td>\n",
       "      <td>10.56</td>\n",
       "      <td>0.0</td>\n",
       "      <td>0.0</td>\n",
       "      <td>2022-01-01 00:53:21</td>\n",
       "      <td>2022-01-01 01:02:19</td>\n",
       "      <td>538.0</td>\n",
       "    </tr>\n",
       "    <tr>\n",
       "      <th>3</th>\n",
       "      <td>3</td>\n",
       "      <td>2</td>\n",
       "      <td>2022-01-01 00:25:21</td>\n",
       "      <td>2022-01-01 00:35:23</td>\n",
       "      <td>1.0</td>\n",
       "      <td>1.09</td>\n",
       "      <td>1.0</td>\n",
       "      <td>N</td>\n",
       "      <td>114</td>\n",
       "      <td>68</td>\n",
       "      <td>...</td>\n",
       "      <td>0.5</td>\n",
       "      <td>0.00</td>\n",
       "      <td>0.0</td>\n",
       "      <td>0.3</td>\n",
       "      <td>11.80</td>\n",
       "      <td>2.5</td>\n",
       "      <td>0.0</td>\n",
       "      <td>2022-01-01 00:25:21</td>\n",
       "      <td>2022-01-01 00:35:23</td>\n",
       "      <td>602.0</td>\n",
       "    </tr>\n",
       "    <tr>\n",
       "      <th>4</th>\n",
       "      <td>4</td>\n",
       "      <td>2</td>\n",
       "      <td>2022-01-01 00:36:48</td>\n",
       "      <td>2022-01-01 01:14:20</td>\n",
       "      <td>1.0</td>\n",
       "      <td>4.30</td>\n",
       "      <td>1.0</td>\n",
       "      <td>N</td>\n",
       "      <td>68</td>\n",
       "      <td>163</td>\n",
       "      <td>...</td>\n",
       "      <td>0.5</td>\n",
       "      <td>3.00</td>\n",
       "      <td>0.0</td>\n",
       "      <td>0.3</td>\n",
       "      <td>30.30</td>\n",
       "      <td>2.5</td>\n",
       "      <td>0.0</td>\n",
       "      <td>2022-01-01 00:36:48</td>\n",
       "      <td>2022-01-01 01:14:20</td>\n",
       "      <td>2252.0</td>\n",
       "    </tr>\n",
       "  </tbody>\n",
       "</table>\n",
       "<p>5 rows × 23 columns</p>\n",
       "</div>"
      ],
      "text/plain": [
       "   Unnamed: 0  VendorID tpep_pickup_datetime tpep_dropoff_datetime   \n",
       "0           0         1  2022-01-01 00:35:40   2022-01-01 00:53:29  \\\n",
       "1           1         1  2022-01-01 00:33:43   2022-01-01 00:42:07   \n",
       "2           2         2  2022-01-01 00:53:21   2022-01-01 01:02:19   \n",
       "3           3         2  2022-01-01 00:25:21   2022-01-01 00:35:23   \n",
       "4           4         2  2022-01-01 00:36:48   2022-01-01 01:14:20   \n",
       "\n",
       "   passenger_count  trip_distance  RatecodeID store_and_fwd_flag   \n",
       "0              2.0           3.80         1.0                  N  \\\n",
       "1              1.0           2.10         1.0                  N   \n",
       "2              1.0           0.97         1.0                  N   \n",
       "3              1.0           1.09         1.0                  N   \n",
       "4              1.0           4.30         1.0                  N   \n",
       "\n",
       "   PULocationID  DOLocationID  ...  mta_tax  tip_amount  tolls_amount   \n",
       "0           142           236  ...      0.5        3.65           0.0  \\\n",
       "1           236            42  ...      0.5        4.00           0.0   \n",
       "2           166           166  ...      0.5        1.76           0.0   \n",
       "3           114            68  ...      0.5        0.00           0.0   \n",
       "4            68           163  ...      0.5        3.00           0.0   \n",
       "\n",
       "   improvement_surcharge  total_amount  congestion_surcharge  airport_fee   \n",
       "0                    0.3         21.95                   2.5          0.0  \\\n",
       "1                    0.3         13.30                   0.0          0.0   \n",
       "2                    0.3         10.56                   0.0          0.0   \n",
       "3                    0.3         11.80                   2.5          0.0   \n",
       "4                    0.3         30.30                   2.5          0.0   \n",
       "\n",
       "             pickup_at           dropoff_at  duration  \n",
       "0  2022-01-01 00:35:40  2022-01-01 00:53:29    1069.0  \n",
       "1  2022-01-01 00:33:43  2022-01-01 00:42:07     504.0  \n",
       "2  2022-01-01 00:53:21  2022-01-01 01:02:19     538.0  \n",
       "3  2022-01-01 00:25:21  2022-01-01 00:35:23     602.0  \n",
       "4  2022-01-01 00:36:48  2022-01-01 01:14:20    2252.0  \n",
       "\n",
       "[5 rows x 23 columns]"
      ]
     },
     "execution_count": 5,
     "metadata": {},
     "output_type": "execute_result"
    }
   ],
   "source": [
    "df.head()"
   ]
  },
  {
   "cell_type": "code",
   "execution_count": 3,
   "metadata": {},
   "outputs": [],
   "source": [
    "df[\"pickup_at\"] = pd.to_datetime(df[\"pickup_at\"])\n",
    "df[\"dropoff_at\"] = pd.to_datetime(df[\"dropoff_at\"])\n",
    "df[\"pickup_at_hour\"] = df[\"pickup_at\"].dt.round(\"H\")"
   ]
  },
  {
   "cell_type": "code",
   "execution_count": 4,
   "metadata": {},
   "outputs": [],
   "source": [
    "df_weather = pd.read_csv(\"data/weather_daily.csv\", index_col=False)\n",
    "df_weather[\"time\"] = pd.to_datetime(df_weather[\"time\"])"
   ]
  },
  {
   "cell_type": "code",
   "execution_count": 5,
   "metadata": {},
   "outputs": [
    {
     "data": {
      "text/html": [
       "<div>\n",
       "<style scoped>\n",
       "    .dataframe tbody tr th:only-of-type {\n",
       "        vertical-align: middle;\n",
       "    }\n",
       "\n",
       "    .dataframe tbody tr th {\n",
       "        vertical-align: top;\n",
       "    }\n",
       "\n",
       "    .dataframe thead th {\n",
       "        text-align: right;\n",
       "    }\n",
       "</style>\n",
       "<table border=\"1\" class=\"dataframe\">\n",
       "  <thead>\n",
       "    <tr style=\"text-align: right;\">\n",
       "      <th></th>\n",
       "      <th>time</th>\n",
       "      <th>precipitation (mm)</th>\n",
       "    </tr>\n",
       "  </thead>\n",
       "  <tbody>\n",
       "    <tr>\n",
       "      <th>0</th>\n",
       "      <td>2022-01-01 00:00:00</td>\n",
       "      <td>0.0</td>\n",
       "    </tr>\n",
       "    <tr>\n",
       "      <th>1</th>\n",
       "      <td>2022-01-01 01:00:00</td>\n",
       "      <td>0.0</td>\n",
       "    </tr>\n",
       "    <tr>\n",
       "      <th>2</th>\n",
       "      <td>2022-01-01 02:00:00</td>\n",
       "      <td>0.0</td>\n",
       "    </tr>\n",
       "    <tr>\n",
       "      <th>3</th>\n",
       "      <td>2022-01-01 03:00:00</td>\n",
       "      <td>0.7</td>\n",
       "    </tr>\n",
       "    <tr>\n",
       "      <th>4</th>\n",
       "      <td>2022-01-01 04:00:00</td>\n",
       "      <td>0.0</td>\n",
       "    </tr>\n",
       "  </tbody>\n",
       "</table>\n",
       "</div>"
      ],
      "text/plain": [
       "                 time  precipitation (mm)\n",
       "0 2022-01-01 00:00:00                 0.0\n",
       "1 2022-01-01 01:00:00                 0.0\n",
       "2 2022-01-01 02:00:00                 0.0\n",
       "3 2022-01-01 03:00:00                 0.7\n",
       "4 2022-01-01 04:00:00                 0.0"
      ]
     },
     "execution_count": 5,
     "metadata": {},
     "output_type": "execute_result"
    }
   ],
   "source": [
    "df_weather.head()"
   ]
  },
  {
   "cell_type": "code",
   "execution_count": 5,
   "metadata": {},
   "outputs": [],
   "source": [
    "# Merge trips data (df) with weather data for that particular hour\n",
    "# (df_weather) on the \"time\" column.\n",
    "#\n",
    "#small[\"pickup_at\"].dt.round(\"H\")\n",
    "merged = pd.merge(df, df_weather, left_on=\"pickup_at_hour\", right_on=\"time\")"
   ]
  },
  {
   "cell_type": "code",
   "execution_count": 6,
   "metadata": {},
   "outputs": [
    {
     "name": "stderr",
     "output_type": "stream",
     "text": [
      "/var/folders/vs/ylfhyw117z1g5xvn55z8jr3c0000gp/T/ipykernel_81571/4246521071.py:4: SettingWithCopyWarning: \n",
      "A value is trying to be set on a copy of a slice from a DataFrame\n",
      "\n",
      "See the caveats in the documentation: https://pandas.pydata.org/pandas-docs/stable/user_guide/indexing.html#returning-a-view-versus-a-copy\n",
      "  merged[\"weather\"][merged[\"precipitation (mm)\"] > 0] = \"rainy\"\n"
     ]
    }
   ],
   "source": [
    "# Make new column \"weather\" that is \"rainy\" if precipitation > 0, else \"sunny\".\n",
    "\n",
    "merged[\"weather\"] = \"sunny\"\n",
    "merged[\"weather\"][merged[\"precipitation (mm)\"] > 0] = \"rainy\""
   ]
  },
  {
   "cell_type": "code",
   "execution_count": 7,
   "metadata": {},
   "outputs": [
    {
     "name": "stderr",
     "output_type": "stream",
     "text": [
      "/var/folders/vs/ylfhyw117z1g5xvn55z8jr3c0000gp/T/ipykernel_81571/2682998250.py:3: SettingWithCopyWarning: \n",
      "A value is trying to be set on a copy of a slice from a DataFrame\n",
      "\n",
      "See the caveats in the documentation: https://pandas.pydata.org/pandas-docs/stable/user_guide/indexing.html#returning-a-view-versus-a-copy\n",
      "  merged[\"time\"][20 < merged[\"pickup_at\"].dt.hour] = \"night\"\n",
      "/var/folders/vs/ylfhyw117z1g5xvn55z8jr3c0000gp/T/ipykernel_81571/2682998250.py:4: SettingWithCopyWarning: \n",
      "A value is trying to be set on a copy of a slice from a DataFrame\n",
      "\n",
      "See the caveats in the documentation: https://pandas.pydata.org/pandas-docs/stable/user_guide/indexing.html#returning-a-view-versus-a-copy\n",
      "  merged[\"time\"][merged[\"pickup_at\"].dt.hour < 6] = \"night\"\n"
     ]
    }
   ],
   "source": [
    "# day/night, sunny/rainy, spring/summer/fall/winter, area (manhattan/all)\n",
    "merged[\"time\"] = \"day\"\n",
    "merged[\"time\"][20 < merged[\"pickup_at\"].dt.hour] = \"night\"\n",
    "merged[\"time\"][merged[\"pickup_at\"].dt.hour < 6] = \"night\""
   ]
  },
  {
   "cell_type": "code",
   "execution_count": 8,
   "metadata": {},
   "outputs": [
    {
     "name": "stderr",
     "output_type": "stream",
     "text": [
      "/var/folders/vs/ylfhyw117z1g5xvn55z8jr3c0000gp/T/ipykernel_81571/3562136131.py:4: SettingWithCopyWarning: \n",
      "A value is trying to be set on a copy of a slice from a DataFrame\n",
      "\n",
      "See the caveats in the documentation: https://pandas.pydata.org/pandas-docs/stable/user_guide/indexing.html#returning-a-view-versus-a-copy\n",
      "  merged[\"pickup_area\"][merged[\"PULocationID\"].isin(manhattan_location_ids)] = \"manhattan\"\n",
      "/var/folders/vs/ylfhyw117z1g5xvn55z8jr3c0000gp/T/ipykernel_81571/3562136131.py:5: SettingWithCopyWarning: \n",
      "A value is trying to be set on a copy of a slice from a DataFrame\n",
      "\n",
      "See the caveats in the documentation: https://pandas.pydata.org/pandas-docs/stable/user_guide/indexing.html#returning-a-view-versus-a-copy\n",
      "  merged[\"dropoff_area\"][merged[\"DOLocationID\"].isin(manhattan_location_ids)] = \"manhattan\"\n"
     ]
    }
   ],
   "source": [
    "merged[\"pickup_area\"] = \"not manhattan\"\n",
    "merged[\"dropoff_area\"] = \"not manhattan\"\n",
    "manhattan_location_ids = [103, 104, 105, 12, 88, 87, 209, 261, 13, 45, 231, 232, 148, 144, 211, 125, 4, 79, 114, 113, 249, 158, 224, 107, 234, 90, 68, 246, 186, 164, 137, 170, 233, 100, 229, 162, 161, 230, 48, 50, 202, 140, 141, 237, 142, 143, 43, 262, 263, 236, 239, 238, 75, 151, 24, 74, 41, 166, 194, 42, 152, 116, 244, 120, 243, 127, 128, 153]\n",
    "merged[\"pickup_area\"][merged[\"PULocationID\"].isin(manhattan_location_ids)] = \"manhattan\"\n",
    "merged[\"dropoff_area\"][merged[\"DOLocationID\"].isin(manhattan_location_ids)] = \"manhattan\""
   ]
  },
  {
   "cell_type": "code",
   "execution_count": 9,
   "metadata": {},
   "outputs": [
    {
     "name": "stderr",
     "output_type": "stream",
     "text": [
      "/var/folders/vs/ylfhyw117z1g5xvn55z8jr3c0000gp/T/ipykernel_81571/3454911036.py:2: SettingWithCopyWarning: \n",
      "A value is trying to be set on a copy of a slice from a DataFrame\n",
      "\n",
      "See the caveats in the documentation: https://pandas.pydata.org/pandas-docs/stable/user_guide/indexing.html#returning-a-view-versus-a-copy\n",
      "  merged[\"season\"][(merged[\"pickup_at\"].dt.month > 2) & (merged[\"pickup_at\"].dt.month < 6)] = \"spring\"\n",
      "/var/folders/vs/ylfhyw117z1g5xvn55z8jr3c0000gp/T/ipykernel_81571/3454911036.py:3: SettingWithCopyWarning: \n",
      "A value is trying to be set on a copy of a slice from a DataFrame\n",
      "\n",
      "See the caveats in the documentation: https://pandas.pydata.org/pandas-docs/stable/user_guide/indexing.html#returning-a-view-versus-a-copy\n",
      "  merged[\"season\"][(merged[\"pickup_at\"].dt.month > 5) & (merged[\"pickup_at\"].dt.month < 9)] = \"summer\"\n",
      "/var/folders/vs/ylfhyw117z1g5xvn55z8jr3c0000gp/T/ipykernel_81571/3454911036.py:4: SettingWithCopyWarning: \n",
      "A value is trying to be set on a copy of a slice from a DataFrame\n",
      "\n",
      "See the caveats in the documentation: https://pandas.pydata.org/pandas-docs/stable/user_guide/indexing.html#returning-a-view-versus-a-copy\n",
      "  merged[\"season\"][(merged[\"pickup_at\"].dt.month > 8) & (merged[\"pickup_at\"].dt.month < 12)] = \"fall\"\n"
     ]
    }
   ],
   "source": [
    "merged[\"season\"] = \"winter\"\n",
    "merged[\"season\"][(merged[\"pickup_at\"].dt.month > 2) & (merged[\"pickup_at\"].dt.month < 6)] = \"spring\"\n",
    "merged[\"season\"][(merged[\"pickup_at\"].dt.month > 5) & (merged[\"pickup_at\"].dt.month < 9)] = \"summer\"\n",
    "merged[\"season\"][(merged[\"pickup_at\"].dt.month > 8) & (merged[\"pickup_at\"].dt.month < 12)] = \"fall\""
   ]
  },
  {
   "cell_type": "code",
   "execution_count": 64,
   "metadata": {},
   "outputs": [],
   "source": [
    "dayname_type = CategoricalDtype(categories=[\"Monday\", \"Tuesday\", \"Wednesday\", \"Thursday\", \"Friday\", \"Saturday\", \"Sunday\"], ordered=True)\n",
    "by_dayname = merged.groupby([\n",
    "    merged[\"pickup_at\"].dt.day_name().astype(dayname_type),\n",
    "    merged[\"weather\"], \n",
    "    merged[\"season\"], \n",
    "    merged[\"time\"], \n",
    "    merged[\"pickup_area\"]\n",
    "])"
   ]
  },
  {
   "cell_type": "code",
   "execution_count": 71,
   "metadata": {},
   "outputs": [],
   "source": [
    "by_dayname[\"trip_distance\"].mean().to_csv(\"output/avg-trip-distance_by-day.csv\")\n",
    "by_dayname[\"duration\"].mean().to_csv(\"output/avg-duration_by-day.csv\")\n",
    "by_dayname[\"tip_amount\"].mean().to_csv(\"output/avg-tip-amount_by-day.csv\")\n",
    "by_dayname[\"duration\"].count().to_csv(\"output/number-of-trips_by-day.csv\")"
   ]
  },
  {
   "cell_type": "code",
   "execution_count": 16,
   "metadata": {},
   "outputs": [],
   "source": [
    "merged[\"duration\"].groupby([merged[\"PULocationID\"], merged[\"weather\"], merged[\"season\"], merged[\"time\"], merged[\"pickup_area\"]]).mean().to_csv(\"output/avg-duration_by-pickup-zone.csv\")\n",
    "merged[\"duration\"].groupby([merged[\"PULocationID\"], merged[\"weather\"], merged[\"season\"], merged[\"time\"], merged[\"pickup_area\"]]).count().to_csv(\"output/number-of-trips_by-pickup-zone.csv\")\n",
    "merged[\"trip_distance\"].groupby([merged[\"PULocationID\"], merged[\"weather\"], merged[\"season\"], merged[\"time\"], merged[\"pickup_area\"]]).mean().to_csv(\"output/avg-trip-distance_by-pickup-zone.csv\")\n",
    "merged[\"tip_amount\"].groupby([merged[\"PULocationID\"], merged[\"weather\"], merged[\"season\"], merged[\"time\"], merged[\"pickup_area\"]]).mean().to_csv(\"output/avg-tip-amount_by-pickup-zone.csv\")"
   ]
  },
  {
   "cell_type": "code",
   "execution_count": null,
   "metadata": {},
   "outputs": [],
   "source": []
  }
 ],
 "metadata": {
  "kernelspec": {
   "display_name": "ml",
   "language": "python",
   "name": "python3"
  },
  "language_info": {
   "codemirror_mode": {
    "name": "ipython",
    "version": 3
   },
   "file_extension": ".py",
   "mimetype": "text/x-python",
   "name": "python",
   "nbconvert_exporter": "python",
   "pygments_lexer": "ipython3",
   "version": "3.10.10"
  },
  "orig_nbformat": 4
 },
 "nbformat": 4,
 "nbformat_minor": 2
}
