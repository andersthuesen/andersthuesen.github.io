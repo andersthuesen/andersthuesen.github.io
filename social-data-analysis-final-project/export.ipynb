{
 "cells": [
  {
   "cell_type": "code",
   "execution_count": 36,
   "metadata": {},
   "outputs": [],
   "source": [
    "import pandas as pd\n",
    "from pandas.api.types import CategoricalDtype"
   ]
  },
  {
   "cell_type": "code",
   "execution_count": 37,
   "metadata": {},
   "outputs": [],
   "source": [
    "df = pd.read_csv(\"data/yellow_tripdata_combined_cleaned_focus.csv\")"
   ]
  },
  {
   "cell_type": "code",
   "execution_count": 38,
   "metadata": {},
   "outputs": [
    {
     "data": {
      "text/html": [
       "<div>\n",
       "<style scoped>\n",
       "    .dataframe tbody tr th:only-of-type {\n",
       "        vertical-align: middle;\n",
       "    }\n",
       "\n",
       "    .dataframe tbody tr th {\n",
       "        vertical-align: top;\n",
       "    }\n",
       "\n",
       "    .dataframe thead th {\n",
       "        text-align: right;\n",
       "    }\n",
       "</style>\n",
       "<table border=\"1\" class=\"dataframe\">\n",
       "  <thead>\n",
       "    <tr style=\"text-align: right;\">\n",
       "      <th></th>\n",
       "      <th>Unnamed: 0</th>\n",
       "      <th>trip_distance</th>\n",
       "      <th>PULocationID</th>\n",
       "      <th>DOLocationID</th>\n",
       "      <th>fare_amount</th>\n",
       "      <th>tip_amount</th>\n",
       "      <th>total_amount</th>\n",
       "      <th>pickup_at</th>\n",
       "      <th>dropoff_at</th>\n",
       "      <th>duration</th>\n",
       "    </tr>\n",
       "  </thead>\n",
       "  <tbody>\n",
       "    <tr>\n",
       "      <th>0</th>\n",
       "      <td>0</td>\n",
       "      <td>3.80</td>\n",
       "      <td>142</td>\n",
       "      <td>236</td>\n",
       "      <td>14.5</td>\n",
       "      <td>3.65</td>\n",
       "      <td>21.95</td>\n",
       "      <td>2022-01-01 00:35:40</td>\n",
       "      <td>2022-01-01 00:53:29</td>\n",
       "      <td>1069.0</td>\n",
       "    </tr>\n",
       "    <tr>\n",
       "      <th>1</th>\n",
       "      <td>1</td>\n",
       "      <td>2.10</td>\n",
       "      <td>236</td>\n",
       "      <td>42</td>\n",
       "      <td>8.0</td>\n",
       "      <td>4.00</td>\n",
       "      <td>13.30</td>\n",
       "      <td>2022-01-01 00:33:43</td>\n",
       "      <td>2022-01-01 00:42:07</td>\n",
       "      <td>504.0</td>\n",
       "    </tr>\n",
       "    <tr>\n",
       "      <th>2</th>\n",
       "      <td>2</td>\n",
       "      <td>0.97</td>\n",
       "      <td>166</td>\n",
       "      <td>166</td>\n",
       "      <td>7.5</td>\n",
       "      <td>1.76</td>\n",
       "      <td>10.56</td>\n",
       "      <td>2022-01-01 00:53:21</td>\n",
       "      <td>2022-01-01 01:02:19</td>\n",
       "      <td>538.0</td>\n",
       "    </tr>\n",
       "    <tr>\n",
       "      <th>3</th>\n",
       "      <td>3</td>\n",
       "      <td>1.09</td>\n",
       "      <td>114</td>\n",
       "      <td>68</td>\n",
       "      <td>8.0</td>\n",
       "      <td>0.00</td>\n",
       "      <td>11.80</td>\n",
       "      <td>2022-01-01 00:25:21</td>\n",
       "      <td>2022-01-01 00:35:23</td>\n",
       "      <td>602.0</td>\n",
       "    </tr>\n",
       "    <tr>\n",
       "      <th>4</th>\n",
       "      <td>4</td>\n",
       "      <td>4.30</td>\n",
       "      <td>68</td>\n",
       "      <td>163</td>\n",
       "      <td>23.5</td>\n",
       "      <td>3.00</td>\n",
       "      <td>30.30</td>\n",
       "      <td>2022-01-01 00:36:48</td>\n",
       "      <td>2022-01-01 01:14:20</td>\n",
       "      <td>2252.0</td>\n",
       "    </tr>\n",
       "  </tbody>\n",
       "</table>\n",
       "</div>"
      ],
      "text/plain": [
       "   Unnamed: 0  trip_distance  PULocationID  DOLocationID  fare_amount   \n",
       "0           0           3.80           142           236         14.5  \\\n",
       "1           1           2.10           236            42          8.0   \n",
       "2           2           0.97           166           166          7.5   \n",
       "3           3           1.09           114            68          8.0   \n",
       "4           4           4.30            68           163         23.5   \n",
       "\n",
       "   tip_amount  total_amount            pickup_at           dropoff_at   \n",
       "0        3.65         21.95  2022-01-01 00:35:40  2022-01-01 00:53:29  \\\n",
       "1        4.00         13.30  2022-01-01 00:33:43  2022-01-01 00:42:07   \n",
       "2        1.76         10.56  2022-01-01 00:53:21  2022-01-01 01:02:19   \n",
       "3        0.00         11.80  2022-01-01 00:25:21  2022-01-01 00:35:23   \n",
       "4        3.00         30.30  2022-01-01 00:36:48  2022-01-01 01:14:20   \n",
       "\n",
       "   duration  \n",
       "0    1069.0  \n",
       "1     504.0  \n",
       "2     538.0  \n",
       "3     602.0  \n",
       "4    2252.0  "
      ]
     },
     "execution_count": 38,
     "metadata": {},
     "output_type": "execute_result"
    }
   ],
   "source": [
    "df.head()"
   ]
  },
  {
   "cell_type": "code",
   "execution_count": 40,
   "metadata": {},
   "outputs": [],
   "source": [
    "df[\"pickup_at\"] = pd.to_datetime(df[\"pickup_at\"])\n",
    "df[\"dropoff_at\"] = pd.to_datetime(df[\"dropoff_at\"])\n",
    "df[\"pickup_at_hour\"] = df[\"pickup_at\"].dt.floor(\"H\")\n",
    "df[\"duration\"] = df[\"duration\"]/60"
   ]
  },
  {
   "cell_type": "code",
   "execution_count": 41,
   "metadata": {},
   "outputs": [],
   "source": [
    "df_weather = pd.read_csv(\"data/weather_hourly.csv\", index_col=False)\n",
    "df_weather[\"time\"] = pd.to_datetime(df_weather[\"time\"])"
   ]
  },
  {
   "cell_type": "code",
   "execution_count": 42,
   "metadata": {},
   "outputs": [
    {
     "data": {
      "text/html": [
       "<div>\n",
       "<style scoped>\n",
       "    .dataframe tbody tr th:only-of-type {\n",
       "        vertical-align: middle;\n",
       "    }\n",
       "\n",
       "    .dataframe tbody tr th {\n",
       "        vertical-align: top;\n",
       "    }\n",
       "\n",
       "    .dataframe thead th {\n",
       "        text-align: right;\n",
       "    }\n",
       "</style>\n",
       "<table border=\"1\" class=\"dataframe\">\n",
       "  <thead>\n",
       "    <tr style=\"text-align: right;\">\n",
       "      <th></th>\n",
       "      <th>time</th>\n",
       "      <th>precipitation (mm)</th>\n",
       "    </tr>\n",
       "  </thead>\n",
       "  <tbody>\n",
       "    <tr>\n",
       "      <th>0</th>\n",
       "      <td>2022-01-01 00:00:00</td>\n",
       "      <td>0.0</td>\n",
       "    </tr>\n",
       "    <tr>\n",
       "      <th>1</th>\n",
       "      <td>2022-01-01 01:00:00</td>\n",
       "      <td>0.0</td>\n",
       "    </tr>\n",
       "    <tr>\n",
       "      <th>2</th>\n",
       "      <td>2022-01-01 02:00:00</td>\n",
       "      <td>0.0</td>\n",
       "    </tr>\n",
       "    <tr>\n",
       "      <th>3</th>\n",
       "      <td>2022-01-01 03:00:00</td>\n",
       "      <td>0.7</td>\n",
       "    </tr>\n",
       "    <tr>\n",
       "      <th>4</th>\n",
       "      <td>2022-01-01 04:00:00</td>\n",
       "      <td>0.0</td>\n",
       "    </tr>\n",
       "  </tbody>\n",
       "</table>\n",
       "</div>"
      ],
      "text/plain": [
       "                 time  precipitation (mm)\n",
       "0 2022-01-01 00:00:00                 0.0\n",
       "1 2022-01-01 01:00:00                 0.0\n",
       "2 2022-01-01 02:00:00                 0.0\n",
       "3 2022-01-01 03:00:00                 0.7\n",
       "4 2022-01-01 04:00:00                 0.0"
      ]
     },
     "execution_count": 42,
     "metadata": {},
     "output_type": "execute_result"
    }
   ],
   "source": [
    "df_weather.head()"
   ]
  },
  {
   "cell_type": "code",
   "execution_count": 43,
   "metadata": {},
   "outputs": [],
   "source": [
    "# Merge trips data (df) with weather data for that particular hour\n",
    "# (df_weather) on the \"time\" column.\n",
    "#\n",
    "#small[\"pickup_at\"].dt.round(\"H\")\n",
    "merged = pd.merge(df, df_weather, left_on=\"pickup_at_hour\", right_on=\"time\")"
   ]
  },
  {
   "cell_type": "code",
   "execution_count": 44,
   "metadata": {},
   "outputs": [
    {
     "name": "stderr",
     "output_type": "stream",
     "text": [
      "C:\\Users\\anned\\AppData\\Local\\Temp\\ipykernel_19796\\4246521071.py:4: SettingWithCopyWarning: \n",
      "A value is trying to be set on a copy of a slice from a DataFrame\n",
      "\n",
      "See the caveats in the documentation: https://pandas.pydata.org/pandas-docs/stable/user_guide/indexing.html#returning-a-view-versus-a-copy\n",
      "  merged[\"weather\"][merged[\"precipitation (mm)\"] > 0] = \"rainy\"\n"
     ]
    }
   ],
   "source": [
    "# Make new column \"weather\" that is \"rainy\" if precipitation > 0, else \"sunny\".\n",
    "\n",
    "merged[\"weather\"] = \"sunny\"\n",
    "merged[\"weather\"][merged[\"precipitation (mm)\"] > 0] = \"rainy\""
   ]
  },
  {
   "cell_type": "code",
   "execution_count": 45,
   "metadata": {},
   "outputs": [
    {
     "name": "stderr",
     "output_type": "stream",
     "text": [
      "C:\\Users\\anned\\AppData\\Local\\Temp\\ipykernel_19796\\2682998250.py:3: SettingWithCopyWarning: \n",
      "A value is trying to be set on a copy of a slice from a DataFrame\n",
      "\n",
      "See the caveats in the documentation: https://pandas.pydata.org/pandas-docs/stable/user_guide/indexing.html#returning-a-view-versus-a-copy\n",
      "  merged[\"time\"][20 < merged[\"pickup_at\"].dt.hour] = \"night\"\n",
      "C:\\Users\\anned\\AppData\\Local\\Temp\\ipykernel_19796\\2682998250.py:4: SettingWithCopyWarning: \n",
      "A value is trying to be set on a copy of a slice from a DataFrame\n",
      "\n",
      "See the caveats in the documentation: https://pandas.pydata.org/pandas-docs/stable/user_guide/indexing.html#returning-a-view-versus-a-copy\n",
      "  merged[\"time\"][merged[\"pickup_at\"].dt.hour < 6] = \"night\"\n"
     ]
    }
   ],
   "source": [
    "# day/night, sunny/rainy, spring/summer/fall/winter, area (manhattan/all)\n",
    "merged[\"time\"] = \"day\"\n",
    "merged[\"time\"][20 < merged[\"pickup_at\"].dt.hour] = \"night\"\n",
    "merged[\"time\"][merged[\"pickup_at\"].dt.hour < 6] = \"night\""
   ]
  },
  {
   "cell_type": "code",
   "execution_count": 46,
   "metadata": {},
   "outputs": [
    {
     "name": "stderr",
     "output_type": "stream",
     "text": [
      "C:\\Users\\anned\\AppData\\Local\\Temp\\ipykernel_19796\\3562136131.py:4: SettingWithCopyWarning: \n",
      "A value is trying to be set on a copy of a slice from a DataFrame\n",
      "\n",
      "See the caveats in the documentation: https://pandas.pydata.org/pandas-docs/stable/user_guide/indexing.html#returning-a-view-versus-a-copy\n",
      "  merged[\"pickup_area\"][merged[\"PULocationID\"].isin(manhattan_location_ids)] = \"manhattan\"\n",
      "C:\\Users\\anned\\AppData\\Local\\Temp\\ipykernel_19796\\3562136131.py:5: SettingWithCopyWarning: \n",
      "A value is trying to be set on a copy of a slice from a DataFrame\n",
      "\n",
      "See the caveats in the documentation: https://pandas.pydata.org/pandas-docs/stable/user_guide/indexing.html#returning-a-view-versus-a-copy\n",
      "  merged[\"dropoff_area\"][merged[\"DOLocationID\"].isin(manhattan_location_ids)] = \"manhattan\"\n"
     ]
    }
   ],
   "source": [
    "merged[\"pickup_area\"] = \"not manhattan\"\n",
    "merged[\"dropoff_area\"] = \"not manhattan\"\n",
    "manhattan_location_ids = [103, 104, 105, 12, 88, 87, 209, 261, 13, 45, 231, 232, 148, 144, 211, 125, 4, 79, 114, 113, 249, 158, 224, 107, 234, 90, 68, 246, 186, 164, 137, 170, 233, 100, 229, 162, 161, 230, 48, 50, 202, 140, 141, 237, 142, 143, 43, 262, 263, 236, 239, 238, 75, 151, 24, 74, 41, 166, 194, 42, 152, 116, 244, 120, 243, 127, 128, 153]\n",
    "merged[\"pickup_area\"][merged[\"PULocationID\"].isin(manhattan_location_ids)] = \"manhattan\"\n",
    "merged[\"dropoff_area\"][merged[\"DOLocationID\"].isin(manhattan_location_ids)] = \"manhattan\""
   ]
  },
  {
   "cell_type": "code",
   "execution_count": 47,
   "metadata": {},
   "outputs": [
    {
     "name": "stderr",
     "output_type": "stream",
     "text": [
      "C:\\Users\\anned\\AppData\\Local\\Temp\\ipykernel_19796\\3454911036.py:2: SettingWithCopyWarning: \n",
      "A value is trying to be set on a copy of a slice from a DataFrame\n",
      "\n",
      "See the caveats in the documentation: https://pandas.pydata.org/pandas-docs/stable/user_guide/indexing.html#returning-a-view-versus-a-copy\n",
      "  merged[\"season\"][(merged[\"pickup_at\"].dt.month > 2) & (merged[\"pickup_at\"].dt.month < 6)] = \"spring\"\n",
      "C:\\Users\\anned\\AppData\\Local\\Temp\\ipykernel_19796\\3454911036.py:3: SettingWithCopyWarning: \n",
      "A value is trying to be set on a copy of a slice from a DataFrame\n",
      "\n",
      "See the caveats in the documentation: https://pandas.pydata.org/pandas-docs/stable/user_guide/indexing.html#returning-a-view-versus-a-copy\n",
      "  merged[\"season\"][(merged[\"pickup_at\"].dt.month > 5) & (merged[\"pickup_at\"].dt.month < 9)] = \"summer\"\n",
      "C:\\Users\\anned\\AppData\\Local\\Temp\\ipykernel_19796\\3454911036.py:4: SettingWithCopyWarning: \n",
      "A value is trying to be set on a copy of a slice from a DataFrame\n",
      "\n",
      "See the caveats in the documentation: https://pandas.pydata.org/pandas-docs/stable/user_guide/indexing.html#returning-a-view-versus-a-copy\n",
      "  merged[\"season\"][(merged[\"pickup_at\"].dt.month > 8) & (merged[\"pickup_at\"].dt.month < 12)] = \"fall\"\n"
     ]
    }
   ],
   "source": [
    "merged[\"season\"] = \"winter\"\n",
    "merged[\"season\"][(merged[\"pickup_at\"].dt.month > 2) & (merged[\"pickup_at\"].dt.month < 6)] = \"spring\"\n",
    "merged[\"season\"][(merged[\"pickup_at\"].dt.month > 5) & (merged[\"pickup_at\"].dt.month < 9)] = \"summer\"\n",
    "merged[\"season\"][(merged[\"pickup_at\"].dt.month > 8) & (merged[\"pickup_at\"].dt.month < 12)] = \"fall\""
   ]
  },
  {
   "cell_type": "code",
   "execution_count": 48,
   "metadata": {},
   "outputs": [],
   "source": [
    "focus = ['trip_distance','fare_amount','tip_amount','total_amount','duration']"
   ]
  },
  {
   "cell_type": "code",
   "execution_count": 49,
   "metadata": {},
   "outputs": [
    {
     "ename": "MemoryError",
     "evalue": "Unable to allocate 283. MiB for an array with shape (37067376,) and data type int64",
     "output_type": "error",
     "traceback": [
      "\u001b[1;31m---------------------------------------------------------------------------\u001b[0m",
      "\u001b[1;31mMemoryError\u001b[0m                               Traceback (most recent call last)",
      "Cell \u001b[1;32mIn[49], line 3\u001b[0m\n\u001b[0;32m      1\u001b[0m dayname_type \u001b[39m=\u001b[39m CategoricalDtype(categories\u001b[39m=\u001b[39m[\u001b[39m\"\u001b[39m\u001b[39mMonday\u001b[39m\u001b[39m\"\u001b[39m, \u001b[39m\"\u001b[39m\u001b[39mTuesday\u001b[39m\u001b[39m\"\u001b[39m, \u001b[39m\"\u001b[39m\u001b[39mWednesday\u001b[39m\u001b[39m\"\u001b[39m, \u001b[39m\"\u001b[39m\u001b[39mThursday\u001b[39m\u001b[39m\"\u001b[39m, \u001b[39m\"\u001b[39m\u001b[39mFriday\u001b[39m\u001b[39m\"\u001b[39m, \u001b[39m\"\u001b[39m\u001b[39mSaturday\u001b[39m\u001b[39m\"\u001b[39m, \u001b[39m\"\u001b[39m\u001b[39mSunday\u001b[39m\u001b[39m\"\u001b[39m], ordered\u001b[39m=\u001b[39m\u001b[39mTrue\u001b[39;00m)\n\u001b[0;32m      2\u001b[0m by_dayname \u001b[39m=\u001b[39m merged\u001b[39m.\u001b[39mgroupby([\n\u001b[1;32m----> 3\u001b[0m     merged[\u001b[39m\"\u001b[39;49m\u001b[39mpickup_at\u001b[39;49m\u001b[39m\"\u001b[39;49m]\u001b[39m.\u001b[39;49mdt\u001b[39m.\u001b[39;49mday_name()\u001b[39m.\u001b[39mastype(dayname_type),\n\u001b[0;32m      4\u001b[0m     merged[\u001b[39m\"\u001b[39m\u001b[39mweather\u001b[39m\u001b[39m\"\u001b[39m], \n\u001b[0;32m      5\u001b[0m     merged[\u001b[39m\"\u001b[39m\u001b[39mseason\u001b[39m\u001b[39m\"\u001b[39m], \n\u001b[0;32m      6\u001b[0m     merged[\u001b[39m\"\u001b[39m\u001b[39mtime\u001b[39m\u001b[39m\"\u001b[39m], \n\u001b[0;32m      7\u001b[0m     merged[\u001b[39m\"\u001b[39m\u001b[39mpickup_area\u001b[39m\u001b[39m\"\u001b[39m]\n\u001b[0;32m      8\u001b[0m ])\n",
      "File \u001b[1;32mc:\\Users\\anned\\anaconda3\\envs\\data_vis\\lib\\site-packages\\pandas\\core\\accessor.py:112\u001b[0m, in \u001b[0;36mPandasDelegate._add_delegate_accessors.<locals>._create_delegator_method.<locals>.f\u001b[1;34m(self, *args, **kwargs)\u001b[0m\n\u001b[0;32m    111\u001b[0m \u001b[39mdef\u001b[39;00m \u001b[39mf\u001b[39m(\u001b[39mself\u001b[39m, \u001b[39m*\u001b[39margs, \u001b[39m*\u001b[39m\u001b[39m*\u001b[39mkwargs):\n\u001b[1;32m--> 112\u001b[0m     \u001b[39mreturn\u001b[39;00m \u001b[39mself\u001b[39m\u001b[39m.\u001b[39m_delegate_method(name, \u001b[39m*\u001b[39margs, \u001b[39m*\u001b[39m\u001b[39m*\u001b[39mkwargs)\n",
      "File \u001b[1;32mc:\\Users\\anned\\anaconda3\\envs\\data_vis\\lib\\site-packages\\pandas\\core\\indexes\\accessors.py:128\u001b[0m, in \u001b[0;36mProperties._delegate_method\u001b[1;34m(self, name, *args, **kwargs)\u001b[0m\n\u001b[0;32m    125\u001b[0m values \u001b[39m=\u001b[39m \u001b[39mself\u001b[39m\u001b[39m.\u001b[39m_get_values()\n\u001b[0;32m    127\u001b[0m method \u001b[39m=\u001b[39m \u001b[39mgetattr\u001b[39m(values, name)\n\u001b[1;32m--> 128\u001b[0m result \u001b[39m=\u001b[39m method(\u001b[39m*\u001b[39margs, \u001b[39m*\u001b[39m\u001b[39m*\u001b[39mkwargs)\n\u001b[0;32m    130\u001b[0m \u001b[39mif\u001b[39;00m \u001b[39mnot\u001b[39;00m is_list_like(result):\n\u001b[0;32m    131\u001b[0m     \u001b[39mreturn\u001b[39;00m result\n",
      "File \u001b[1;32mc:\\Users\\anned\\anaconda3\\envs\\data_vis\\lib\\site-packages\\pandas\\core\\indexes\\extension.py:104\u001b[0m, in \u001b[0;36m_inherit_from_data.<locals>.method\u001b[1;34m(self, *args, **kwargs)\u001b[0m\n\u001b[0;32m    102\u001b[0m     \u001b[39melif\u001b[39;00m \u001b[39misinstance\u001b[39m(result, ABCDataFrame):\n\u001b[0;32m    103\u001b[0m         \u001b[39mreturn\u001b[39;00m result\u001b[39m.\u001b[39mset_index(\u001b[39mself\u001b[39m)\n\u001b[1;32m--> 104\u001b[0m     \u001b[39mreturn\u001b[39;00m Index(result, name\u001b[39m=\u001b[39;49m\u001b[39mself\u001b[39;49m\u001b[39m.\u001b[39;49mname)\n\u001b[0;32m    105\u001b[0m \u001b[39mreturn\u001b[39;00m result\n",
      "File \u001b[1;32mc:\\Users\\anned\\anaconda3\\envs\\data_vis\\lib\\site-packages\\pandas\\core\\indexes\\base.py:551\u001b[0m, in \u001b[0;36mIndex.__new__\u001b[1;34m(cls, data, dtype, copy, name, tupleize_cols)\u001b[0m\n\u001b[0;32m    548\u001b[0m         data \u001b[39m=\u001b[39m com\u001b[39m.\u001b[39masarray_tuplesafe(data, dtype\u001b[39m=\u001b[39m_dtype_obj)\n\u001b[0;32m    550\u001b[0m \u001b[39mtry\u001b[39;00m:\n\u001b[1;32m--> 551\u001b[0m     arr \u001b[39m=\u001b[39m sanitize_array(data, \u001b[39mNone\u001b[39;49;00m, dtype\u001b[39m=\u001b[39;49mdtype, copy\u001b[39m=\u001b[39;49mcopy)\n\u001b[0;32m    552\u001b[0m \u001b[39mexcept\u001b[39;00m \u001b[39mValueError\u001b[39;00m \u001b[39mas\u001b[39;00m err:\n\u001b[0;32m    553\u001b[0m     \u001b[39mif\u001b[39;00m \u001b[39m\"\u001b[39m\u001b[39mindex must be specified when data is not list-like\u001b[39m\u001b[39m\"\u001b[39m \u001b[39min\u001b[39;00m \u001b[39mstr\u001b[39m(err):\n",
      "File \u001b[1;32mc:\\Users\\anned\\anaconda3\\envs\\data_vis\\lib\\site-packages\\pandas\\core\\construction.py:569\u001b[0m, in \u001b[0;36msanitize_array\u001b[1;34m(data, index, dtype, copy, allow_2d)\u001b[0m\n\u001b[0;32m    567\u001b[0m subarr \u001b[39m=\u001b[39m data\n\u001b[0;32m    568\u001b[0m \u001b[39mif\u001b[39;00m data\u001b[39m.\u001b[39mdtype \u001b[39m==\u001b[39m \u001b[39mobject\u001b[39m:\n\u001b[1;32m--> 569\u001b[0m     subarr \u001b[39m=\u001b[39m maybe_infer_to_datetimelike(data)\n\u001b[0;32m    571\u001b[0m \u001b[39mif\u001b[39;00m subarr \u001b[39mis\u001b[39;00m data \u001b[39mand\u001b[39;00m copy:\n\u001b[0;32m    572\u001b[0m     subarr \u001b[39m=\u001b[39m subarr\u001b[39m.\u001b[39mcopy()\n",
      "File \u001b[1;32mc:\\Users\\anned\\anaconda3\\envs\\data_vis\\lib\\site-packages\\pandas\\core\\dtypes\\cast.py:1178\u001b[0m, in \u001b[0;36mmaybe_infer_to_datetimelike\u001b[1;34m(value)\u001b[0m\n\u001b[0;32m   1173\u001b[0m     \u001b[39mreturn\u001b[39;00m value\n\u001b[0;32m   1175\u001b[0m \u001b[39m# error: Incompatible return value type (got \"Union[ExtensionArray,\u001b[39;00m\n\u001b[0;32m   1176\u001b[0m \u001b[39m# ndarray[Any, Any]]\", expected \"Union[ndarray[Any, Any], DatetimeArray,\u001b[39;00m\n\u001b[0;32m   1177\u001b[0m \u001b[39m# TimedeltaArray, PeriodArray, IntervalArray]\")\u001b[39;00m\n\u001b[1;32m-> 1178\u001b[0m \u001b[39mreturn\u001b[39;00m lib\u001b[39m.\u001b[39;49mmaybe_convert_objects(  \u001b[39m# type: ignore[return-value]\u001b[39;49;00m\n\u001b[0;32m   1179\u001b[0m     value,\n\u001b[0;32m   1180\u001b[0m     \u001b[39m# Here we do not convert numeric dtypes, as if we wanted that,\u001b[39;49;00m\n\u001b[0;32m   1181\u001b[0m     \u001b[39m#  numpy would have done it for us.\u001b[39;49;00m\n\u001b[0;32m   1182\u001b[0m     convert_numeric\u001b[39m=\u001b[39;49m\u001b[39mFalse\u001b[39;49;00m,\n\u001b[0;32m   1183\u001b[0m     convert_period\u001b[39m=\u001b[39;49m\u001b[39mTrue\u001b[39;49;00m,\n\u001b[0;32m   1184\u001b[0m     convert_interval\u001b[39m=\u001b[39;49m\u001b[39mTrue\u001b[39;49;00m,\n\u001b[0;32m   1185\u001b[0m     convert_timedelta\u001b[39m=\u001b[39;49m\u001b[39mTrue\u001b[39;49;00m,\n\u001b[0;32m   1186\u001b[0m     convert_datetime\u001b[39m=\u001b[39;49m\u001b[39mTrue\u001b[39;49;00m,\n\u001b[0;32m   1187\u001b[0m     dtype_if_all_nat\u001b[39m=\u001b[39;49mnp\u001b[39m.\u001b[39;49mdtype(\u001b[39m\"\u001b[39;49m\u001b[39mM8[ns]\u001b[39;49m\u001b[39m\"\u001b[39;49m),\n\u001b[0;32m   1188\u001b[0m )\n",
      "File \u001b[1;32mc:\\Users\\anned\\anaconda3\\envs\\data_vis\\lib\\site-packages\\pandas\\_libs\\lib.pyx:2442\u001b[0m, in \u001b[0;36mpandas._libs.lib.maybe_convert_objects\u001b[1;34m()\u001b[0m\n",
      "\u001b[1;31mMemoryError\u001b[0m: Unable to allocate 283. MiB for an array with shape (37067376,) and data type int64"
     ]
    }
   ],
   "source": [
    "dayname_type = CategoricalDtype(categories=[\"Monday\", \"Tuesday\", \"Wednesday\", \"Thursday\", \"Friday\", \"Saturday\", \"Sunday\"], ordered=True)\n",
    "by_dayname = merged.groupby([\n",
    "    merged[\"pickup_at\"].dt.day_name().astype(dayname_type),\n",
    "    merged[\"weather\"], \n",
    "    merged[\"season\"], \n",
    "    merged[\"time\"], \n",
    "    merged[\"pickup_area\"]\n",
    "])"
   ]
  },
  {
   "cell_type": "code",
   "execution_count": null,
   "metadata": {},
   "outputs": [],
   "source": [
    "day_out = pd.concat((\n",
    "    by_dayname[focus].sum(), \n",
    "    by_dayname[\"duration\"].count() # Don't need to choose an attribute here, since we're just counting the number of rows.\n",
    "), axis=1)\n",
    "day_out.columns = focus + [ \"number_of_trips\"]\n",
    "day_out = day_out.loc[day_out['number_of_trips']!=0]\n",
    "day_out.to_csv(\"output/day_out.csv\")"
   ]
  },
  {
   "cell_type": "code",
   "execution_count": null,
   "metadata": {},
   "outputs": [],
   "source": [
    "monthname_type = CategoricalDtype(categories=[\"January\", \"February\", \"March\", \"April\", \"May\", \"June\", \"July\", \"August\", \"September\", \"October\", \"November\", \"December\"], ordered=True)\n",
    "by_monthname = merged.groupby([\n",
    "    merged[\"pickup_at\"].dt.month_name().astype(monthname_type),\n",
    "    merged[\"weather\"], \n",
    "    merged[\"season\"], \n",
    "    merged[\"time\"], \n",
    "    merged[\"pickup_area\"]\n",
    "])"
   ]
  },
  {
   "cell_type": "code",
   "execution_count": null,
   "metadata": {},
   "outputs": [],
   "source": [
    "month_out = pd.concat((\n",
    "    by_monthname[focus].sum(), \n",
    "    by_monthname[\"duration\"].count() # Don't need to choose an attribute here, since we're just counting the number of rows.\n",
    "), axis=1)\n",
    "month_out.columns = focus + [ \"number_of_trips\"]\n",
    "month_out = month_out.loc[month_out['number_of_trips']!=0]\n",
    "month_out.to_csv(\"output/month_out.csv\")"
   ]
  },
  {
   "cell_type": "code",
   "execution_count": null,
   "metadata": {},
   "outputs": [],
   "source": [
    "by_zones = merged.groupby([\n",
    "    merged[\"PULocationID\"],\n",
    "    merged[\"DOLocationID\"],\n",
    "    merged[\"weather\"], \n",
    "    merged[\"season\"], \n",
    "    merged[\"time\"], \n",
    "    merged[\"pickup_area\"]\n",
    "])"
   ]
  },
  {
   "cell_type": "code",
   "execution_count": null,
   "metadata": {},
   "outputs": [],
   "source": [
    "zones_out = pd.concat((\n",
    "    by_zones[focus].sum(), \n",
    "    by_zones[\"duration\"].count() # Don't need to choose an attribute here, since we're just counting the number of rows.\n",
    "), axis=1)\n",
    "zones_out.columns = focus + [ \"number_of_trips\"]\n",
    "zones_out = zones_out.loc[zones_out['number_of_trips']!=0]\n",
    "zones_out.to_csv(\"output/zones_out.csv\")"
   ]
  },
  {
   "cell_type": "code",
   "execution_count": null,
   "metadata": {},
   "outputs": [],
   "source": [
    "by_PUzone = merged.groupby([\n",
    "    merged[\"PULocationID\"],\n",
    "    merged[\"weather\"], \n",
    "    merged[\"season\"], \n",
    "    merged[\"time\"], \n",
    "    merged[\"pickup_area\"]\n",
    "])"
   ]
  },
  {
   "cell_type": "code",
   "execution_count": null,
   "metadata": {},
   "outputs": [],
   "source": [
    "PUzone_out = pd.concat((\n",
    "    by_PUzone[focus].sum(), \n",
    "    by_PUzone[\"duration\"].count() # Don't need to choose an attribute here, since we're just counting the number of rows.\n",
    "), axis=1)\n",
    "PUzone_out.columns = focus + [ \"number_of_trips\"]\n",
    "PUzone_out = PUzone_out.loc[PUzone_out['number_of_trips']!=0]\n",
    "PUzone_out.to_csv(\"output/PUzones_out.csv\")"
   ]
  },
  {
   "cell_type": "code",
   "execution_count": null,
   "metadata": {},
   "outputs": [],
   "source": [
    "by_DOzone = merged.groupby([\n",
    "    merged[\"DOLocationID\"],\n",
    "    merged[\"weather\"], \n",
    "    merged[\"season\"], \n",
    "    merged[\"time\"], \n",
    "    merged[\"pickup_area\"]\n",
    "])"
   ]
  },
  {
   "cell_type": "code",
   "execution_count": null,
   "metadata": {},
   "outputs": [],
   "source": [
    "DOzone_out = pd.concat((\n",
    "    by_DOzone[focus].sum(), \n",
    "    by_DOzone[\"duration\"].count() # Don't need to choose an attribute here, since we're just counting the number of rows.\n",
    "), axis=1)\n",
    "DOzone_out.columns = focus + [ \"number_of_trips\"]\n",
    "DOzone_out = DOzone_out.loc[DOzone_out['number_of_trips']!=0]\n",
    "DOzone_out.to_csv(\"output/DOzones_out.csv\")"
   ]
  }
 ],
 "metadata": {
  "kernelspec": {
   "display_name": "ml",
   "language": "python",
   "name": "python3"
  },
  "language_info": {
   "codemirror_mode": {
    "name": "ipython",
    "version": 3
   },
   "file_extension": ".py",
   "mimetype": "text/x-python",
   "name": "python",
   "nbconvert_exporter": "python",
   "pygments_lexer": "ipython3",
   "version": "3.9.16"
  },
  "orig_nbformat": 4
 },
 "nbformat": 4,
 "nbformat_minor": 2
}
